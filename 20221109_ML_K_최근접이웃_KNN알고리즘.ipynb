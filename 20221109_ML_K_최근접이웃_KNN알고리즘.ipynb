{
  "nbformat": 4,
  "nbformat_minor": 0,
  "metadata": {
    "colab": {
      "private_outputs": true,
      "provenance": [],
      "collapsed_sections": [],
      "toc_visible": true,
      "authorship_tag": "ABX9TyO4W4o7UFJiypgsXg9D0mSn",
      "include_colab_link": true
    },
    "kernelspec": {
      "name": "python3",
      "display_name": "Python 3"
    },
    "language_info": {
      "name": "python"
    }
  },
  "cells": [
    {
      "cell_type": "markdown",
      "metadata": {
        "id": "view-in-github",
        "colab_type": "text"
      },
      "source": [
        "<a href=\"https://colab.research.google.com/github/lookinsight/ml/blob/main/20221109_ML_K_%EC%B5%9C%EA%B7%BC%EC%A0%91%EC%9D%B4%EC%9B%83_KNN%EC%95%8C%EA%B3%A0%EB%A6%AC%EC%A6%98.ipynb\" target=\"_parent\"><img src=\"https://colab.research.google.com/assets/colab-badge.svg\" alt=\"Open In Colab\"/></a>"
      ]
    },
    {
      "cell_type": "markdown",
      "source": [
        "# 와인 품질 분류"
      ],
      "metadata": {
        "id": "M1F9IscEtK4-"
      }
    },
    {
      "cell_type": "code",
      "source": [
        "import pandas as pd \n",
        "import numpy as np \n",
        "import matplotlib.pyplot as plt\n",
        "import seaborn as sns"
      ],
      "metadata": {
        "id": "ifYsBQ8itLS4"
      },
      "execution_count": null,
      "outputs": []
    },
    {
      "cell_type": "code",
      "source": [
        "#@title 데이터 불러오기\n",
        "# https://archive.ics.uci.edu/ml/datasets/wine\n",
        "# https://www.kaggle.com/datasets/akhil0007/wine-data\n",
        "file_url = 'https://raw.githubusercontent.com/bigdata-young/bigdata_16th/main/data/wine.csv'\n",
        "df = pd.read_csv(file_url)"
      ],
      "metadata": {
        "id": "uEE-1F-mtLWV"
      },
      "execution_count": null,
      "outputs": []
    },
    {
      "cell_type": "code",
      "source": [
        "df.info()"
      ],
      "metadata": {
        "id": "VzeW1zC-tLZq"
      },
      "execution_count": null,
      "outputs": []
    },
    {
      "cell_type": "code",
      "source": [
        "df.describe()"
      ],
      "metadata": {
        "id": "Y-CXKLhXtLdU"
      },
      "execution_count": null,
      "outputs": []
    },
    {
      "cell_type": "code",
      "source": [
        "# 출력되는 데이터의 소수점 4자리까지만 보기\n",
        "pd.options.display.float_format = '{:,.4f}'.format \n",
        "df.describe()   # KNN -> 거리기반, 숫자 단위에 민감 -> 스케일링 (전처리) "
      ],
      "metadata": {
        "id": "DxJPuHn8tLgd"
      },
      "execution_count": null,
      "outputs": []
    },
    {
      "cell_type": "code",
      "source": [
        "df.Class.value_counts()"
      ],
      "metadata": {
        "id": "3qdc3GPgtLja"
      },
      "execution_count": null,
      "outputs": []
    },
    {
      "cell_type": "code",
      "source": [
        "value_counts = df.Class.value_counts()\n",
        "sns.barplot(x = value_counts.index, y = value_counts) "
      ],
      "metadata": {
        "id": "PYzYo0eJtLmw"
      },
      "execution_count": null,
      "outputs": []
    },
    {
      "cell_type": "code",
      "source": [
        "# https://plotly.com/python/\n",
        "# barplot 숫자표시  \n",
        "value_counts = df.Class.value_counts() \n",
        "bar = sns.barplot(x = value_counts.index, y = value_counts) \n",
        "for p in bar.patches:\n",
        "    height = p.get_height() \n",
        "    bar.text(p.get_x() + p.get_width() / 2., height + 3, height, ha = 'center', size = 9) \n",
        "bar.set_ylim(-5, 100) \n",
        "plt.show() "
      ],
      "metadata": {
        "id": "BO6_iOBCtLqU"
      },
      "execution_count": null,
      "outputs": []
    },
    {
      "cell_type": "code",
      "source": [
        "# 데이터 특성 보기(info, describe) \n",
        "# 결측치 채워주기 \n",
        "# 범주형 -> 더미 변수\n",
        "# 훈련셋 / 시험셋 \n",
        "# 스케일링 <= 훈련셋을 통해서 만들어진 스케일러로 시험셋 스케일링 \n",
        "# 스케일링 이유: 아웃라이어 영향을 줄이거나 범위에 다른 거리의 왜곡 줄이기 \n",
        "# 훈련하는 대상이 되는 데이터 <-> 시험을 대상으로 하는 데이터는 구분, 독립 \n",
        "# 둘을 합쳐서 스케일링을 하면 최소-최대? 평균? 1, 2, 3분위(25, 50, 75%)  값이 공유\n",
        "# 훈련셋을 대상으로만 스케일링함 \n",
        "#    => 스케일러 학습 (훈련셋 학습 스케일러) \n",
        "#    => 시험셋도 이미 학습된(훈련셋 학습된 스케일러) 스케일러로 스케일링을 진행 "
      ],
      "metadata": {
        "id": "fYxNTtdeL5QU"
      },
      "execution_count": null,
      "outputs": []
    },
    {
      "cell_type": "markdown",
      "source": [
        "# 스케일링"
      ],
      "metadata": {
        "id": "cSEmNF-bMWot"
      }
    },
    {
      "cell_type": "code",
      "source": [
        "from sklearn.preprocessing import StandardScaler, MinMaxScaler, RobustScaler"
      ],
      "metadata": {
        "id": "dkAcWZ_WtLtO"
      },
      "execution_count": null,
      "outputs": []
    },
    {
      "cell_type": "code",
      "source": [
        "#@title 표준화 스케일링\n",
        "# st_scaler = StandardScaler()\n",
        "# st_scaler.fit(df)\n",
        "# 스케일러가 fit()을 통해 학습한 정보를 통해 데이터를 변환(스케일링)하게 하는 함수\n",
        "# st_scaled = st_scaler.transform(df)\n",
        "# df_st_scaled = pd.DataFrame(st_scaled, columns = df.columns)\n",
        "# df_st_scaled.describe() "
      ],
      "metadata": {
        "id": "idNN3z1YtLwV"
      },
      "execution_count": null,
      "outputs": []
    },
    {
      "cell_type": "code",
      "source": [
        "# pd.options.display.float_format = '{:,.2f}'.format \n",
        "# df_st_scaled.describe() # mean(평균) = 0, std(표준편차) = 1"
      ],
      "metadata": {
        "id": "QtQA7KREKFaE"
      },
      "execution_count": null,
      "outputs": []
    },
    {
      "cell_type": "code",
      "source": [
        "#@title 로버스트스케일링\n",
        "# rb_scaler = RobustScaler()\n",
        "# fit + transform (한번에)\n",
        "\n",
        "# rb_scalded = rb_scaler.fit_transform(df)\n",
        "# df_rb_scaled = pd.DataFrame(rb_scalded, columns = df.columns)\n",
        "# df_rb_scaled.describe()"
      ],
      "metadata": {
        "id": "eRUQXBKLKFdR"
      },
      "execution_count": null,
      "outputs": []
    },
    {
      "cell_type": "code",
      "source": [
        "# #@title 최소최대 스케일링\n",
        "# mm_scaler = MinMaxScaler()\n",
        "# mm_scaled = mm_scaler.fit_transform(df)\n",
        "# df_mm_scaled = pd.DataFrame(mm_scaled, columns = df.columns)\n",
        "# df_mm_scaled.describe()"
      ],
      "metadata": {
        "id": "zH76HGv0tL8G"
      },
      "execution_count": null,
      "outputs": []
    },
    {
      "cell_type": "markdown",
      "source": [
        "#### 스케일링 방식 선택 기준\n",
        "* 아웃라이어의 유무 : 아웃라이어 영향이 클 시 로버스트 스케일링이 적합 (4분위값 이용)\n",
        "* 데이터의 기존 분포를 최대한 유지해야할 시 : 최소-최대 스케일링\n",
        "* 기존 데이터가 정규분포를 따르고 있고 아웃라이어가 없는 상황 : 표준화 스케일링"
      ],
      "metadata": {
        "id": "IE7LYfeyKpfe"
      }
    },
    {
      "cell_type": "markdown",
      "source": [
        "#### 스케일링 적용 시 주의점\n",
        "* 스케일링 대상에서 종속변수를 제외\n",
        "* 스케일링 전 훈련셋과 시험셋을 구분"
      ],
      "metadata": {
        "id": "_AOMwQoMK6MU"
      }
    },
    {
      "cell_type": "code",
      "source": [
        "# 훈련셋과 시험셋 분리 \n",
        "from sklearn.model_selection import train_test_split \n",
        "X_train, X_test, y_train, y_test = train_test_split(df.drop('Class', axis = 1),    # axis = 0 행, axis = 1 축 \n",
        "                                                    df.Class, \n",
        "                                                    test_size = 0.2, random_state = 100)"
      ],
      "metadata": {
        "id": "cfNz5J7aKbH9"
      },
      "execution_count": null,
      "outputs": []
    },
    {
      "cell_type": "code",
      "source": [
        "# 데이터 특성 보존을 위해 최대-최소 스케일러 사용 \n",
        "# from sklearn.preprocessing import StandardScaler, MinMaxScaler, RobustScaler\n",
        "mm_scaler = MinMaxScaler() \n",
        "mm_scaler.fit(X_train)"
      ],
      "metadata": {
        "id": "T8VzZg-fKbLQ"
      },
      "execution_count": null,
      "outputs": []
    },
    {
      "cell_type": "code",
      "source": [
        "X_train_scaled = mm_scaler.transform(X_train) \n",
        "X_train_scaled"
      ],
      "metadata": {
        "id": "rNPIexlnKbOi"
      },
      "execution_count": null,
      "outputs": []
    },
    {
      "cell_type": "code",
      "source": [
        "mm_scaler = MinMaxScaler()  # MinMaxScaler() 은 객체 , 객체는 안에 프로퍼티를 가지고 있음 \n",
        " # fit을 한다는건 특정한 데이터를 기준으로 학습을 시킴(프로퍼티라는 내부변수에 저장) \n",
        " # fit 하고 transform (한번에 fit_transform) 이게 가능한건 mm_scaler.fit 이 내부에 저장되어 있기 때문에 X_test는 transform 만 해줘도 됨\n",
        "X_train_scaled = mm_scaler.fit_transform(X_train)       \n",
        "X_test_scaled = mm_scaler.transform(X_test) \n",
        "X_test_scaled"
      ],
      "metadata": {
        "id": "BpM_XW6uKbQ-"
      },
      "execution_count": null,
      "outputs": []
    },
    {
      "cell_type": "code",
      "source": [
        "#@title 모델링\n",
        "\n",
        "from sklearn.neighbors import KNeighborsClassifier"
      ],
      "metadata": {
        "id": "-IwuoYf-KbTp"
      },
      "execution_count": null,
      "outputs": []
    },
    {
      "cell_type": "code",
      "source": [
        "knn = KNeighborsClassifier() \n",
        "knn.fit(X_train_scaled, y_train) \n",
        "pred = knn.predict(X_test_scaled) "
      ],
      "metadata": {
        "id": "tg6yUdtGKbWX"
      },
      "execution_count": null,
      "outputs": []
    },
    {
      "cell_type": "code",
      "source": [
        "pred"
      ],
      "metadata": {
        "id": "MKYvI_KkKbY6"
      },
      "execution_count": null,
      "outputs": []
    },
    {
      "cell_type": "code",
      "source": [
        "# 정확도보기 \n",
        "from sklearn.metrics import accuracy_score \n",
        "accuracy_score(y_test, pred) "
      ],
      "metadata": {
        "id": "NuCMTYFMKbbV"
      },
      "execution_count": null,
      "outputs": []
    },
    {
      "cell_type": "code",
      "source": [
        "# 스케일링 안한 데이터 비교\n",
        "knn2 = KNeighborsClassifier() \n",
        "knn2.fit(X_train, y_train) \n",
        "pred2 = knn2.predict(X_test) \n",
        "accuracy_score(y_test, pred2) "
      ],
      "metadata": {
        "id": "tTQuwX7AQAfb"
      },
      "execution_count": null,
      "outputs": []
    },
    {
      "cell_type": "code",
      "source": [
        "# 코드 진행 관련 함수화 하기 \n",
        "# n은 정수형 int 를 패러미터로 받고, 최종 return 으로 실수형 float 를 반환해준다.\n",
        "def tuning(n: int) -> float:\n",
        "    knn = KNeighborsClassifier(n_neighbors = n) \n",
        "    knn.fit(X_train_scaled, y_train)\n",
        "    pred = knn.predict(X_test_scaled)\n",
        "    score = accuracy_score(y_test, pred)  \n",
        "    return score  "
      ],
      "metadata": {
        "id": "CQWRl-3xRvok"
      },
      "execution_count": null,
      "outputs": []
    },
    {
      "cell_type": "code",
      "source": [
        "tuning(1)"
      ],
      "metadata": {
        "id": "-vOHo-PERvr8"
      },
      "execution_count": null,
      "outputs": []
    },
    {
      "cell_type": "code",
      "source": [
        "# for 문을 통해서 1 ~ 20까지 tuning 값 구하기 \n",
        "for t in range(1, 21):\n",
        "    print(t, tuning(t)) \n",
        "\n",
        "# for t in range(20):\n",
        "    # print(t, tuning(t + 1))\n",
        "\n",
        "# [t, tuning(t + 1) for t in range(20)] "
      ],
      "metadata": {
        "id": "Pq9ziGaiRvw2"
      },
      "execution_count": null,
      "outputs": []
    },
    {
      "cell_type": "code",
      "source": [
        "k_list = [(t, tuning(t)) for t in range(1, 21)]"
      ],
      "metadata": {
        "id": "dSTUIiSZTECj"
      },
      "execution_count": null,
      "outputs": []
    },
    {
      "cell_type": "code",
      "source": [
        "sorted(k_list, key = lambda x: x[1], reverse = True) "
      ],
      "metadata": {
        "id": "QqctFtTXTEF7"
      },
      "execution_count": null,
      "outputs": []
    },
    {
      "cell_type": "code",
      "source": [
        "import matplotlib.pyplot as plt\n",
        "\n",
        "x = [4, 5, 10, 4, 3, 11, 14 , 8, 10, 12]\n",
        "y = [21, 19, 24, 17, 16, 25, 24, 22, 21, 21]\n",
        "classes = [0, 0, 1, 0, 0, 1, 1, 0, 1, 1]\n",
        "\n",
        "plt.scatter(x, y, c=classes)"
      ],
      "metadata": {
        "id": "--_mEM6_TEJo"
      },
      "execution_count": null,
      "outputs": []
    },
    {
      "cell_type": "code",
      "source": [],
      "metadata": {
        "id": "fvk7ExqNhAkt"
      },
      "execution_count": null,
      "outputs": []
    },
    {
      "cell_type": "code",
      "source": [],
      "metadata": {
        "id": "xt1_AF5HhAnB"
      },
      "execution_count": null,
      "outputs": []
    },
    {
      "cell_type": "code",
      "execution_count": null,
      "metadata": {
        "id": "285_Vdmrstqe"
      },
      "outputs": [],
      "source": []
    }
  ]
}