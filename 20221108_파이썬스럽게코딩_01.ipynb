{
  "nbformat": 4,
  "nbformat_minor": 0,
  "metadata": {
    "colab": {
      "private_outputs": true,
      "provenance": [],
      "collapsed_sections": [],
      "toc_visible": true,
      "authorship_tag": "ABX9TyP+ilhslutuhZ2lximoB9a6",
      "include_colab_link": true
    },
    "kernelspec": {
      "name": "python3",
      "display_name": "Python 3"
    },
    "language_info": {
      "name": "python"
    }
  },
  "cells": [
    {
      "cell_type": "markdown",
      "metadata": {
        "id": "view-in-github",
        "colab_type": "text"
      },
      "source": [
        "<a href=\"https://colab.research.google.com/github/lookinsight/ml/blob/main/20221108_%ED%8C%8C%EC%9D%B4%EC%8D%AC%EC%8A%A4%EB%9F%BD%EA%B2%8C%EC%BD%94%EB%94%A9_01.ipynb\" target=\"_parent\"><img src=\"https://colab.research.google.com/assets/colab-badge.svg\" alt=\"Open In Colab\"/></a>"
      ]
    },
    {
      "cell_type": "markdown",
      "source": [
        "# 변수 할당"
      ],
      "metadata": {
        "id": "bDbEkgpayW1e"
      }
    },
    {
      "cell_type": "code",
      "execution_count": null,
      "metadata": {
        "id": "DIANPwkpyKD3"
      },
      "outputs": [],
      "source": [
        "a = 1 \n",
        "a"
      ]
    },
    {
      "cell_type": "code",
      "source": [
        "a_list = [1, 2, 3]\n",
        "a_list"
      ],
      "metadata": {
        "id": "C37nLJ0fyPG0"
      },
      "execution_count": null,
      "outputs": []
    },
    {
      "cell_type": "code",
      "source": [
        "x, y, z = a_list\n",
        "x"
      ],
      "metadata": {
        "id": "0ju9hZU4yPJ7"
      },
      "execution_count": null,
      "outputs": []
    },
    {
      "cell_type": "code",
      "source": [
        "# train_test_split ? : X_train, x_test, y_train, y_test = ...\n",
        "# for i in range(n) \n",
        "b_list = [(1, 2), (2, 3), (3, 4), (4, 5)]\n",
        "for v in b_list:\n",
        "    print(v)  "
      ],
      "metadata": {
        "id": "hr6nf4CiyPNC"
      },
      "execution_count": null,
      "outputs": []
    },
    {
      "cell_type": "code",
      "source": [
        "for v in b_list:\n",
        "    print(v[0], v[1])"
      ],
      "metadata": {
        "id": "gkOhovDNyPQY"
      },
      "execution_count": null,
      "outputs": []
    },
    {
      "cell_type": "code",
      "source": [
        "for x, y in b_list:\n",
        "    print(x)\n",
        "    print(y)"
      ],
      "metadata": {
        "id": "4MEkfnGoyPTK"
      },
      "execution_count": null,
      "outputs": []
    },
    {
      "cell_type": "markdown",
      "source": [
        "# 리스트 컴프리헨션"
      ],
      "metadata": {
        "id": "vTtExRvp0HKd"
      }
    },
    {
      "cell_type": "code",
      "source": [
        "c_list = ['apple', 'banana', 'cherry', 'pear', 'bear']"
      ],
      "metadata": {
        "id": "9xqFl2hIyPWZ"
      },
      "execution_count": null,
      "outputs": []
    },
    {
      "cell_type": "code",
      "source": [
        "new_list = []\n",
        "for c in c_list:\n",
        "    new_list.append(c[0]) \n",
        "new_list\n",
        "\n",
        "# 파이썬 스럽지 않다"
      ],
      "metadata": {
        "id": "HODK-NUEyPZc"
      },
      "execution_count": null,
      "outputs": []
    },
    {
      "cell_type": "code",
      "source": [
        "# 리스트 컴프리헨션\n",
        "[c for c in c_list]"
      ],
      "metadata": {
        "id": "YfCHFwy5yPcg"
      },
      "execution_count": null,
      "outputs": []
    },
    {
      "cell_type": "code",
      "source": [
        "[c[0] for c in c_list]"
      ],
      "metadata": {
        "id": "XEG5YQ--yPfo"
      },
      "execution_count": null,
      "outputs": []
    },
    {
      "cell_type": "code",
      "source": [
        "[len(c) for c in c_list]"
      ],
      "metadata": {
        "id": "Rdw0mMMMyPil"
      },
      "execution_count": null,
      "outputs": []
    },
    {
      "cell_type": "code",
      "source": [
        "def welcome_func(v):\n",
        "    print(f'환영합니다 {v}')\n",
        "\n",
        "names = ['강동원', '송강호', '김연아']\n",
        "[welcome_func(n) for n in names] "
      ],
      "metadata": {
        "id": "hCATTypwyPlr"
      },
      "execution_count": null,
      "outputs": []
    },
    {
      "cell_type": "code",
      "source": [
        "#@title 삼항연산자 \n",
        "\"0\" if True else \"X\" "
      ],
      "metadata": {
        "id": "Mng-7b-NyPoW"
      },
      "execution_count": null,
      "outputs": []
    },
    {
      "cell_type": "code",
      "source": [
        "boolen = False \n",
        "\"0\" if boolen else \"X\" "
      ],
      "metadata": {
        "id": "GurMMDUn1w1e"
      },
      "execution_count": null,
      "outputs": []
    },
    {
      "cell_type": "code",
      "source": [
        "#@title 리스트컴프리헨션 조건문\n",
        "[c for c in c_list if len(c) > 5 ]"
      ],
      "metadata": {
        "id": "KCvFh4WF2ZHm"
      },
      "execution_count": null,
      "outputs": []
    },
    {
      "cell_type": "code",
      "source": [
        "#@title 리스트컴프리헨션의 삼항연산자 (주의)\n",
        "[c if len(c) > 5 else \"Sorry\" for c in c_list]"
      ],
      "metadata": {
        "id": "W90mQTGo2ZLK"
      },
      "execution_count": null,
      "outputs": []
    },
    {
      "cell_type": "code",
      "source": [
        "#@title Parameter Vs Argument(s) \n",
        "\n",
        "def my_func(*arg, **kwargs):\n",
        "    print(args)\n",
        "    print(kwargs) "
      ],
      "metadata": {
        "id": "JefOAEvL2ZO1"
      },
      "execution_count": null,
      "outputs": []
    },
    {
      "cell_type": "code",
      "source": [
        "# 함수에 들어가는 변수의 자리 : 매개변수 -> 패러미터\n",
        "# 함수에서 변수에 들어가는 값 자체 : 인자 -> argument"
      ],
      "metadata": {
        "id": "MBMM9F-62ZSc"
      },
      "execution_count": null,
      "outputs": []
    },
    {
      "cell_type": "code",
      "source": [],
      "metadata": {
        "id": "_YNhOuxu2ZVe"
      },
      "execution_count": null,
      "outputs": []
    }
  ]
}