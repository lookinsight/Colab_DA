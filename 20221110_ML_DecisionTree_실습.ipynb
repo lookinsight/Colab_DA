{
  "nbformat": 4,
  "nbformat_minor": 0,
  "metadata": {
    "colab": {
      "private_outputs": true,
      "provenance": [],
      "toc_visible": true,
      "authorship_tag": "ABX9TyPknRPIuLwz3mtKOW7rQkZU",
      "include_colab_link": true
    },
    "kernelspec": {
      "name": "python3",
      "display_name": "Python 3"
    },
    "language_info": {
      "name": "python"
    }
  },
  "cells": [
    {
      "cell_type": "markdown",
      "metadata": {
        "id": "view-in-github",
        "colab_type": "text"
      },
      "source": [
        "<a href=\"https://colab.research.google.com/github/lookinsight/ml/blob/main/20221110_ML_DecisionTree_%EC%8B%A4%EC%8A%B5.ipynb\" target=\"_parent\"><img src=\"https://colab.research.google.com/assets/colab-badge.svg\" alt=\"Open In Colab\"/></a>"
      ]
    },
    {
      "cell_type": "markdown",
      "source": [
        "# 결정트리\n"
      ],
      "metadata": {
        "id": "3NdedpnU8chD"
      }
    },
    {
      "cell_type": "code",
      "execution_count": null,
      "metadata": {
        "id": "aOnQDIBo7-4W"
      },
      "outputs": [],
      "source": [
        "# https://www.kaggle.com/datasets/ayessa/salary-prediction-classification\n",
        "# https://raw.githubusercontent.com/bigdata-young/bigdata_16th/main/data/salary.csv\n",
        "import pandas as pd\n",
        "import numpy as np \n",
        "import matplotlib.pyplot as plt \n",
        "import seaborn as sns "
      ]
    },
    {
      "cell_type": "markdown",
      "source": [
        "## 데이터 불러오기"
      ],
      "metadata": {
        "id": "DeApGFjnMekv"
      }
    },
    {
      "cell_type": "code",
      "source": [
        "file_url = 'https://raw.githubusercontent.com/bigdata-young/bigdata_16th/main/data/salary.csv'\n",
        "df = pd.read_csv(file_url, skipinitialspace = True) "
      ],
      "metadata": {
        "id": "Pxo7BA0F8bfU"
      },
      "execution_count": null,
      "outputs": []
    },
    {
      "cell_type": "code",
      "source": [
        "df.head()"
      ],
      "metadata": {
        "id": "IYp-MNv88bii"
      },
      "execution_count": null,
      "outputs": []
    },
    {
      "cell_type": "code",
      "source": [
        "df.tail()"
      ],
      "metadata": {
        "id": "kxdeGh9c8bmK"
      },
      "execution_count": null,
      "outputs": []
    },
    {
      "cell_type": "code",
      "source": [
        "df.info()"
      ],
      "metadata": {
        "id": "J4DDnhM-8bpl"
      },
      "execution_count": null,
      "outputs": []
    },
    {
      "cell_type": "code",
      "source": [
        "# [연속형 변수]\n",
        "# age: 연령\n",
        "# education-num : 교육년수\n",
        "# capital-gain : 자산증가\n",
        "# capital-loss : 자삼감소\n",
        "# hours-per-week : 주당 노동 시간\n",
        "df.describe()"
      ],
      "metadata": {
        "id": "WgrnM_gS8br_"
      },
      "execution_count": null,
      "outputs": []
    },
    {
      "cell_type": "code",
      "source": [
        "# [범주형 변수]\n",
        "# workclass : 고용형태\n",
        "# education : 학력\n",
        "# marital-status : 결혼 상태\n",
        "# occupation : 직업\n",
        "# relationship : 가족관계\n",
        "# race : 인종\n",
        "# sex : 성별\n",
        "# native-country: 출신국가\n",
        "# class: 연봉 범위\n",
        "\n",
        "df.describe(include = ['O'])"
      ],
      "metadata": {
        "id": "3XAg0p9i8bvI"
      },
      "execution_count": null,
      "outputs": []
    },
    {
      "cell_type": "code",
      "source": [
        " df.describe(include = 'all') "
      ],
      "metadata": {
        "id": "V69Rgu8G8byf"
      },
      "execution_count": null,
      "outputs": []
    },
    {
      "cell_type": "code",
      "source": [
        "df['capital-gain'].plot()\t"
      ],
      "metadata": {
        "id": "cc_rXEqXO4T-"
      },
      "execution_count": null,
      "outputs": []
    },
    {
      "cell_type": "markdown",
      "source": [
        "## 전처리"
      ],
      "metadata": {
        "id": "euO5CkrzOzbs"
      }
    },
    {
      "cell_type": "markdown",
      "source": [
        "1. 전처리 할 때\n",
        "2. 전처리 -> **범주형 변수** (drop? 연속형 변수처리? dummies? 대체?) / **결측치** / (스케일링 -> 아웃라이어는 신경 안씀. 왜 결정트리라서)\n",
        "\n",
        "2-1. education : education-num -> drop<br> \n",
        "2-2. occupation : 이미 묵여 있고 중요할 듯 -> dummies<br> \n",
        "2-3. native-country : 출신국가들인데 어차피 결정트리니까 고연봉자 비율 정도로만 처리해줘도 괜찮을듯?"
      ],
      "metadata": {
        "id": "0jyn78NKk5PX"
      }
    },
    {
      "cell_type": "code",
      "source": [
        "df['class']"
      ],
      "metadata": {
        "id": "HWJjhLkt8b18"
      },
      "execution_count": null,
      "outputs": []
    },
    {
      "cell_type": "code",
      "source": [
        "df['class'].value_counts()"
      ],
      "metadata": {
        "id": "Oof4wL6aObOM"
      },
      "execution_count": null,
      "outputs": []
    },
    {
      "cell_type": "code",
      "source": [
        "df['class'] = df['class'].map({'<=50K': 0, '>50K': 1})\n",
        "df['class']"
      ],
      "metadata": {
        "id": "dtT1p2EjObLh"
      },
      "execution_count": null,
      "outputs": []
    },
    {
      "cell_type": "code",
      "source": [
        "df['class'].value_counts()"
      ],
      "metadata": {
        "id": "6ip4tBnbObIP"
      },
      "execution_count": null,
      "outputs": []
    },
    {
      "cell_type": "code",
      "source": [
        "df['age'].dtype"
      ],
      "metadata": {
        "id": "QZV6xXL1ObFF"
      },
      "execution_count": null,
      "outputs": []
    },
    {
      "cell_type": "code",
      "source": [
        "for c in df.columns:\n",
        "    print(c, df[c].dtype)"
      ],
      "metadata": {
        "id": "qWPqCdg_ObBr"
      },
      "execution_count": null,
      "outputs": []
    },
    {
      "cell_type": "code",
      "source": [
        "obj_list = []\n",
        "for c in df.columns:\n",
        "    if df[c].dtype == 'object':\n",
        "        obj_list.append(c)\n",
        "        # print(c, df[c].dtype)\n",
        "print(obj_list)\n",
        "\n",
        "obj_list2 = [c for c in df.columns if df[c].dtype == 'object']\n",
        "print(obj_list2) "
      ],
      "metadata": {
        "id": "kLKRPmGYOa9j"
      },
      "execution_count": null,
      "outputs": []
    },
    {
      "cell_type": "code",
      "source": [
        "# 1. 연속형 변수? <- 1, 2, 3... Group의 평균, 최빈값 \n",
        "# 2. drop? \n",
        "# 3. dummies? \n",
        "for o in obj_list:\n",
        "    if df[o].nunique() > 10:\n",
        "        print(o,'-', df[o].nunique()) "
      ],
      "metadata": {
        "id": "tI5npLsDOa6W"
      },
      "execution_count": null,
      "outputs": []
    },
    {
      "cell_type": "code",
      "source": [
        "df.education.value_counts()"
      ],
      "metadata": {
        "id": "IMevtF4RQumR"
      },
      "execution_count": null,
      "outputs": []
    },
    {
      "cell_type": "code",
      "source": [
        "df['education-num']"
      ],
      "metadata": {
        "id": "8L-78gcqQujZ"
      },
      "execution_count": null,
      "outputs": []
    },
    {
      "cell_type": "code",
      "source": [
        "for n in range(1, 17):\n",
        "    # print(f\"**{n}**\") \n",
        "    # print(df[df['education-num'] == n]['education'])\n",
        "    print(f\"**{n}**\", df[df['education-num'] == n]['education'].unique())\n",
        "    # print(df[df['education-num'] == n]['education'].nunique())\n",
        "    # print(df[df['education-num'] == n]['education'].nunique() == 1)"
      ],
      "metadata": {
        "id": "76JrekVQQugK"
      },
      "execution_count": null,
      "outputs": []
    },
    {
      "cell_type": "code",
      "source": [
        "df.drop(columns = ['education'], axis = 1, inplace = True)"
      ],
      "metadata": {
        "id": "naTNGN_DZAi_"
      },
      "execution_count": null,
      "outputs": []
    },
    {
      "cell_type": "code",
      "source": [
        "df.info()"
      ],
      "metadata": {
        "id": "c4N-57yRQucq"
      },
      "execution_count": null,
      "outputs": []
    },
    {
      "cell_type": "code",
      "source": [
        "# 데이터 이미 묶여있고, 직업이라는 데이터 특성상 연봉 큰 영향 예상 \n",
        "df['occupation'].value_counts()"
      ],
      "metadata": {
        "id": "Ace12tk_Sy5O"
      },
      "execution_count": null,
      "outputs": []
    },
    {
      "cell_type": "code",
      "source": [
        "df['native-country'].value_counts()  # 미국이 가장 많다 나머지?\n",
        "# 1. 미국 vs 기타 : 0, 1\n",
        "# 2. 대륙별, 언어권별 -> 추가적인 기준을 만들어 더미변수화\n",
        "# 3. "
      ],
      "metadata": {
        "id": "Nu4bR8UGSy16"
      },
      "execution_count": null,
      "outputs": []
    },
    {
      "cell_type": "code",
      "source": [
        "# groupby(묶고 싶은 열 이름)[특정한 열 이름], 적용하고자 하는 그룹함수() => mean()\n",
        "# df.groupby(['native-country']).min()\n",
        "# df.groupby(['native-country']).mean()\n",
        "# df.groupby(['native-country'])['class'].mean()\n",
        "df.groupby(['native-country'])['class'].mean().sort_values(ascending = False) "
      ],
      "metadata": {
        "id": "fj5H6yDFSyyb"
      },
      "execution_count": null,
      "outputs": []
    },
    {
      "cell_type": "code",
      "source": [
        "# df[df['native-country'] == 'France'].groupby(['occupation'])\n",
        "df[df['native-country'] == 'France'].groupby(['occupation'])['class'].mean() "
      ],
      "metadata": {
        "id": "VUpNeUTQSytV"
      },
      "execution_count": null,
      "outputs": []
    },
    {
      "cell_type": "code",
      "source": [
        "country_group = df.groupby('native-country').mean()['class']\n",
        "country_group \n",
        "# country_group 나라별 고연봉자 비율을 원래 df 에 합치고 싶음\n",
        "# 나라별 -> 나라 이름 -> index에 있음 -> reset_index 인덱스에서 꺼내기"
      ],
      "metadata": {
        "id": "cSgHBNAISyqE"
      },
      "execution_count": null,
      "outputs": []
    },
    {
      "cell_type": "code",
      "source": [
        "country_group.index"
      ],
      "metadata": {
        "id": "0alKcZlMejic"
      },
      "execution_count": null,
      "outputs": []
    },
    {
      "cell_type": "code",
      "source": [
        "country_group = country_group.reset_index()\n",
        "country_group"
      ],
      "metadata": {
        "id": "EtU3rXOSekbP"
      },
      "execution_count": null,
      "outputs": []
    },
    {
      "cell_type": "code",
      "source": [
        "# df.groupby(['native-country']).mean()[['class_x','age']].sort_values(by = 'age', ascending = False)['class_x']"
      ],
      "metadata": {
        "id": "slJLapzojpAd"
      },
      "execution_count": null,
      "outputs": []
    },
    {
      "cell_type": "code",
      "source": [
        "# A.merge(B, on = [기준이 되는것]) A 왼쪽, B 오른쪽 \n",
        "# A 라고 하는 쪽 결측치 있을 수 있음\n",
        "# A를 모두 보존해주는 방향으로 -> B가 없어도 돼(country_group.class) -> how = 'left'\n",
        "# index가 기본인데,, 아니면 on으로 열(컬럼) 지정\n",
        "# native-country? : 결측치... \n",
        "df = df.merge(country_group, on = 'native-country', how = 'left')\n",
        "df"
      ],
      "metadata": {
        "id": "xzhRm0wEek_D"
      },
      "execution_count": null,
      "outputs": []
    },
    {
      "cell_type": "code",
      "source": [
        "# df['country_class_mean']\n",
        "# class x, class y \n",
        "df.drop('native-country', axis=1, inplace=True)\n",
        "df"
      ],
      "metadata": {
        "id": "F_zrKPkoelJH"
      },
      "execution_count": null,
      "outputs": []
    },
    {
      "cell_type": "code",
      "source": [
        "df = df.rename(columns = {'class_x': 'class', 'class_y':'native-country'})\n",
        "df"
      ],
      "metadata": {
        "id": "9rtLwlzFSycT"
      },
      "execution_count": null,
      "outputs": []
    },
    {
      "cell_type": "markdown",
      "source": [
        "# 결측치 처리 & 더미 변수 변환"
      ],
      "metadata": {
        "id": "LAOpW5iCvO9p"
      }
    },
    {
      "cell_type": "code",
      "source": [
        "df.isna().mean()"
      ],
      "metadata": {
        "id": "0ZXQXyJ9SyZB"
      },
      "execution_count": null,
      "outputs": []
    },
    {
      "cell_type": "markdown",
      "source": [
        "## 임의값 넣어주기"
      ],
      "metadata": {
        "id": "3E90iBQivT6y"
      }
    },
    {
      "cell_type": "code",
      "source": [
        "df['native-country'].fillna(-99, inplace=True)\n",
        "df.isna().mean()"
      ],
      "metadata": {
        "id": "KAlA_grUkE-k"
      },
      "execution_count": null,
      "outputs": []
    },
    {
      "cell_type": "code",
      "source": [
        "df['workclass'].value_counts() / len(df)"
      ],
      "metadata": {
        "id": "VGwjn2S2kE7t"
      },
      "execution_count": null,
      "outputs": []
    },
    {
      "cell_type": "code",
      "source": [
        "df['workclass'].fillna('Private', inplace=True)\n",
        "df.isna().mean()"
      ],
      "metadata": {
        "id": "DNefPZf-kE4P"
      },
      "execution_count": null,
      "outputs": []
    },
    {
      "cell_type": "code",
      "source": [
        "df['occupation'].value_counts()"
      ],
      "metadata": {
        "id": "ntYbfwzXkE00"
      },
      "execution_count": null,
      "outputs": []
    },
    {
      "cell_type": "code",
      "source": [
        "df['occupation'].fillna('Unknown', inplace=True)\n",
        "df.isna().mean()"
      ],
      "metadata": {
        "id": "2HosgFiPvdrW"
      },
      "execution_count": null,
      "outputs": []
    },
    {
      "cell_type": "code",
      "source": [
        "df.info()"
      ],
      "metadata": {
        "id": "bd5wxbVBvdlj"
      },
      "execution_count": null,
      "outputs": []
    },
    {
      "cell_type": "code",
      "source": [
        "df2 = pd.get_dummies(df, drop_first=True)\n",
        "df2.info()"
      ],
      "metadata": {
        "id": "jlakY8Levdh8"
      },
      "execution_count": null,
      "outputs": []
    },
    {
      "cell_type": "markdown",
      "source": [
        "# 모델링 평가\n",
        "\n",
        "## 훈련셋 & 시험셋 분리"
      ],
      "metadata": {
        "id": "A-mEdMEwvjgh"
      }
    },
    {
      "cell_type": "code",
      "source": [
        "#@title 훈련셋 & 시험셋 분리\n",
        "from sklearn.model_selection import train_test_split\n",
        "X = df2.drop('class', axis=1)\n",
        "y = df2['class']\n",
        "X_train, X_test, y_train, y_test = train_test_split(\n",
        "    X, y, test_size=0.4, random_state=100\n",
        ")"
      ],
      "metadata": {
        "id": "yaBkBA1VvjMw"
      },
      "execution_count": null,
      "outputs": []
    },
    {
      "cell_type": "code",
      "source": [
        "from sklearn.tree import DecisionTreeClassifier"
      ],
      "metadata": {
        "id": "glvdZKN3vheD"
      },
      "execution_count": null,
      "outputs": []
    },
    {
      "cell_type": "code",
      "source": [
        "model = DecisionTreeClassifier(random_state = 100)\n",
        "model.fit(X_train, y_train)\n",
        "pred = model.predict(X_test)"
      ],
      "metadata": {
        "id": "X161HZoBvhbB"
      },
      "execution_count": null,
      "outputs": []
    },
    {
      "cell_type": "code",
      "source": [
        "pred"
      ],
      "metadata": {
        "id": "o8_ZTRZivhWa"
      },
      "execution_count": null,
      "outputs": []
    },
    {
      "cell_type": "code",
      "source": [
        "from sklearn.metrics import accuracy_score\n",
        "accuracy_score(y_test, pred)"
      ],
      "metadata": {
        "id": "mkPMbNZ_vyO2"
      },
      "execution_count": null,
      "outputs": []
    }
  ]
}