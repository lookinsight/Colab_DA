{
  "nbformat": 4,
  "nbformat_minor": 0,
  "metadata": {
    "colab": {
      "private_outputs": true,
      "provenance": [],
      "collapsed_sections": [],
      "toc_visible": true,
      "authorship_tag": "ABX9TyOP6v5hahCGU0axJ9ttEnZf",
      "include_colab_link": true
    },
    "kernelspec": {
      "name": "python3",
      "display_name": "Python 3"
    },
    "language_info": {
      "name": "python"
    }
  },
  "cells": [
    {
      "cell_type": "markdown",
      "metadata": {
        "id": "view-in-github",
        "colab_type": "text"
      },
      "source": [
        "<a href=\"https://colab.research.google.com/github/lookinsight/ml/blob/main/20221114_ML_RandomForest_%EC%A4%91%EA%B3%A0%EC%B0%A8.ipynb\" target=\"_parent\"><img src=\"https://colab.research.google.com/assets/colab-badge.svg\" alt=\"Open In Colab\"/></a>"
      ]
    },
    {
      "cell_type": "markdown",
      "source": [
        "# 중고자 가격 예측"
      ],
      "metadata": {
        "id": "zUhNmDUqtCed"
      }
    },
    {
      "cell_type": "code",
      "execution_count": null,
      "metadata": {
        "id": "vORMvZeJdawb"
      },
      "outputs": [],
      "source": [
        "import pandas as pd \n",
        "import numpy as np\n",
        "import matplotlib.pyplot as plt\n",
        "import seaborn as sns"
      ]
    },
    {
      "cell_type": "code",
      "source": [
        "# https://www.kaggle.com/datasets/nehalbirla/vehicle-dataset-from-cardekho\n",
        "file_url = 'https://raw.githubusercontent.com/bigdata-young/bigdata_16th/main/data/car.csv'\n",
        "df = pd.read_csv(file_url) # 데이터셋 읽기"
      ],
      "metadata": {
        "id": "XvYe0Uf4tBZ7"
      },
      "execution_count": null,
      "outputs": []
    },
    {
      "cell_type": "markdown",
      "source": [
        "|name|year|selling_price|km_driven|fuel|seller_type|transmission|owner|mileage|engine|max_power|torque|seats|\n",
        "|-|-|-|-|-|-|-|-|-|-|-|-|-|\n",
        "|이름|생산년|판매가|주행거리|연료|판매자 유형|변속기|차주 변경 내역|마일리지(연비)|배기량|최대출력|토크|인승|"
      ],
      "metadata": {
        "id": "99msogHSuKD9"
      }
    },
    {
      "cell_type": "code",
      "source": [
        "df.head()"
      ],
      "metadata": {
        "id": "cQjBNF17tBdw"
      },
      "execution_count": null,
      "outputs": []
    },
    {
      "cell_type": "code",
      "source": [
        "df.tail()"
      ],
      "metadata": {
        "id": "v-xj1gHutBhj"
      },
      "execution_count": null,
      "outputs": []
    },
    {
      "cell_type": "code",
      "source": [
        "df.info()   # 결측치, 데이터 타입"
      ],
      "metadata": {
        "id": "OZcBQ2xYtBlH"
      },
      "execution_count": null,
      "outputs": []
    },
    {
      "cell_type": "code",
      "source": [
        "#@title 결측치 \n",
        "missing_value = df.isnull().sum()\n",
        "# https://pandas.pydata.org/docs/reference/api/pandas.DataFrame.plot.html\n",
        "ax = missing_value[missing_value.gt(0)].plot(xlim=(0, 250), kind='barh')\n",
        "for p in ax.patches:\n",
        "    ax.annotate(str(p.get_width()), (p.get_width() * 1.005, p.get_y() + 0.15))"
      ],
      "metadata": {
        "id": "89OQozJ8tBod"
      },
      "execution_count": null,
      "outputs": []
    },
    {
      "cell_type": "code",
      "source": [
        "missing_value = df.isnull().mean()\n",
        "# https://pandas.pydata.org/docs/reference/api/pandas.DataFrame.plot.html\n",
        "ax = missing_value[missing_value.gt(0)].plot(xlim=(0, 0.5 ), kind='barh')\n",
        "for p in ax.patches:\n",
        "    ax.annotate(str(p.get_width()), (p.get_width() * 1.005, p.get_y() + 0.15))"
      ],
      "metadata": {
        "id": "_EbKSBBLtBrl"
      },
      "execution_count": null,
      "outputs": []
    },
    {
      "cell_type": "code",
      "source": [
        "#@title 단위 처리\n",
        "# 단위 때문에 범주형(object 분류되는 데이터..)\n",
        "df.engine.unique()"
      ],
      "metadata": {
        "id": "bBzkw_TftBuB"
      },
      "execution_count": null,
      "outputs": []
    },
    {
      "cell_type": "code",
      "source": [
        "pd.options.display.float_format = \"{:,.2f}\".format\n",
        "df.describe()"
      ],
      "metadata": {
        "id": "gqE9bwROtBxC"
      },
      "execution_count": null,
      "outputs": []
    },
    {
      "cell_type": "code",
      "source": [
        "df.boxplot()"
      ],
      "metadata": {
        "id": "IhfDmGpYtB0U"
      },
      "execution_count": null,
      "outputs": []
    },
    {
      "cell_type": "code",
      "source": [
        "# subplots\n",
        "fig, (ax1, ax2) = plt.subplots(1, 2)\n",
        "ax1 = df.selling_price.plot.box(ax=ax1)\n",
        "ax2 = df.km_driven.plot.box(ax=ax2)\n",
        "plt.show()"
      ],
      "metadata": {
        "id": "oBj7KOGstB3a"
      },
      "execution_count": null,
      "outputs": []
    },
    {
      "cell_type": "markdown",
      "source": [
        "## 전처리"
      ],
      "metadata": {
        "id": "CLO61ZsowOmI"
      }
    },
    {
      "cell_type": "markdown",
      "source": [
        "### 단위 변환"
      ],
      "metadata": {
        "id": "b9Y3Rmupwevv"
      }
    },
    {
      "cell_type": "code",
      "source": [
        "df.describe(include=['O'])"
      ],
      "metadata": {
        "id": "3Pw-CYlrtB6f"
      },
      "execution_count": null,
      "outputs": []
    },
    {
      "cell_type": "code",
      "source": [
        "# mileage, engine, max_-power -> (숫자) (단위) "
      ],
      "metadata": {
        "id": "53-ndQUswBOU"
      },
      "execution_count": null,
      "outputs": []
    },
    {
      "cell_type": "code",
      "source": [
        "# df.(칼럼).str : (행단위로) 문자열을 처리하는 메소드(함수)들을 불러올 수 있음\n",
        "# df.engine.str.split() # 리스트로 쪼개짐\n",
        "df.engine.str.split(expand=True).head()     # 열로 쪼개짐"
      ],
      "metadata": {
        "id": "9KtQrlugwBRZ"
      },
      "execution_count": null,
      "outputs": []
    },
    {
      "cell_type": "code",
      "source": [
        "df[['engine', 'engine_unit']] = df.engine.str.split(expand=True)\n",
        "df.head()"
      ],
      "metadata": {
        "id": "HKjwHihYwBU8"
      },
      "execution_count": null,
      "outputs": []
    },
    {
      "cell_type": "code",
      "source": [
        "df.engine.head()"
      ],
      "metadata": {
        "id": "_jdf8ZAnwBYT"
      },
      "execution_count": null,
      "outputs": []
    },
    {
      "cell_type": "code",
      "source": [
        "df.engine.astype('float32')"
      ],
      "metadata": {
        "id": "_RvJcPinwBcR"
      },
      "execution_count": null,
      "outputs": []
    },
    {
      "cell_type": "code",
      "source": [
        "df.engine = df.engine.astype('float32')\n",
        "df.engine.head()"
      ],
      "metadata": {
        "id": "BP2JH9XUwBeh"
      },
      "execution_count": null,
      "outputs": []
    },
    {
      "cell_type": "code",
      "source": [
        "df.engine_unit.unique()"
      ],
      "metadata": {
        "id": "_jbIeRpjwBhJ"
      },
      "execution_count": null,
      "outputs": []
    },
    {
      "cell_type": "code",
      "source": [
        "df.drop('engine_unit', axis=1, inplace=True)"
      ],
      "metadata": {
        "id": "TCxYOL9AwBkN"
      },
      "execution_count": null,
      "outputs": []
    },
    {
      "cell_type": "code",
      "source": [
        "df.columns"
      ],
      "metadata": {
        "id": "f209IinBwBnM"
      },
      "execution_count": null,
      "outputs": []
    },
    {
      "cell_type": "code",
      "source": [
        "df.max_power.head()"
      ],
      "metadata": {
        "id": "JS5e8MnrtB9Y"
      },
      "execution_count": null,
      "outputs": []
    },
    {
      "cell_type": "code",
      "source": [
        "df[['max_power', 'max_power_unit']] = df.max_power.str.split(expand=True)\n",
        "df.max_power = df.max_power.astype('float32')"
      ],
      "metadata": {
        "id": "jXb0VDIDylK2"
      },
      "execution_count": null,
      "outputs": []
    },
    {
      "cell_type": "code",
      "source": [
        "df.max_power[df.max_power == 'bhp']\n",
        "df.max_power.iloc[0]"
      ],
      "metadata": {
        "id": "JhCXjUvOylNj"
      },
      "execution_count": null,
      "outputs": []
    },
    {
      "cell_type": "code",
      "source": [
        "def handle_float(value):\n",
        "    try:\n",
        "        # num = float(value)\n",
        "        # return num\n",
        "        return float(value)\n",
        "    except ValueError:\n",
        "        return np.NaN"
      ],
      "metadata": {
        "id": "YOIG8qDPylQd"
      },
      "execution_count": null,
      "outputs": []
    },
    {
      "cell_type": "code",
      "source": [
        "df.max_power = df.max_power.apply(handle_float)"
      ],
      "metadata": {
        "id": "Z6vONMcrylTd"
      },
      "execution_count": null,
      "outputs": []
    },
    {
      "cell_type": "code",
      "source": [
        "df.max_power.head()"
      ],
      "metadata": {
        "id": "8O3JjeMmQ3dv"
      },
      "execution_count": null,
      "outputs": []
    },
    {
      "cell_type": "code",
      "source": [
        "df2 = pd.read_csv(file_url)\n",
        "df2.max_power.head()"
      ],
      "metadata": {
        "id": "6gYkPSAaylWC"
      },
      "execution_count": null,
      "outputs": []
    },
    {
      "cell_type": "code",
      "source": [
        "# https://regexr.com/\n",
        "df2.max_power.str.extract('([\\d\\.]+)').astype('float').head()"
      ],
      "metadata": {
        "id": "j2d6D5XMyl6j"
      },
      "execution_count": null,
      "outputs": []
    },
    {
      "cell_type": "code",
      "source": [
        "df.max_power_unit.unique()"
      ],
      "metadata": {
        "id": "dWdmZlgr6vTa"
      },
      "execution_count": null,
      "outputs": []
    },
    {
      "cell_type": "code",
      "source": [
        "df.drop('max_power_unit', axis = 1, inplace = True) "
      ],
      "metadata": {
        "id": "-dM25tY96vWq"
      },
      "execution_count": null,
      "outputs": []
    },
    {
      "cell_type": "code",
      "source": [
        "df.columns"
      ],
      "metadata": {
        "id": "Zu8oCrzT6vZ0"
      },
      "execution_count": null,
      "outputs": []
    },
    {
      "cell_type": "code",
      "source": [
        "df.mileage.unique() # kmpl (km/l), km/kg -> 연비 "
      ],
      "metadata": {
        "id": "R5p57Xpayl9r"
      },
      "execution_count": null,
      "outputs": []
    },
    {
      "cell_type": "code",
      "source": [
        "df[['mileage', 'mileage_unit']] = df.mileage.str.split(expand = True) \n",
        "df.columns"
      ],
      "metadata": {
        "id": "0Zk3mJ0J8yTE"
      },
      "execution_count": null,
      "outputs": []
    },
    {
      "cell_type": "code",
      "source": [
        "df[['mileage', 'mileage_unit']].head()"
      ],
      "metadata": {
        "id": "cz-BtaFL8yWq"
      },
      "execution_count": null,
      "outputs": []
    },
    {
      "cell_type": "code",
      "source": [
        "df.mileage = df.mileage.astype('float32') \n",
        "df.mileage.head() "
      ],
      "metadata": {
        "id": "A7oxZ68M8yZd"
      },
      "execution_count": null,
      "outputs": []
    },
    {
      "cell_type": "code",
      "source": [
        "df.mileage_unit.unique() "
      ],
      "metadata": {
        "id": "BLdAhdIR8yeR"
      },
      "execution_count": null,
      "outputs": []
    },
    {
      "cell_type": "code",
      "source": [
        "df.fuel.unique() # Patrol, Diesel -> L / LPG, CNG -> KG "
      ],
      "metadata": {
        "id": "rrxiSSFW9fnR"
      },
      "execution_count": null,
      "outputs": []
    },
    {
      "cell_type": "code",
      "source": [
        "fuels = {'Petrol' : 80.43,\n",
        "         'Diesel' : 73.56,\n",
        "         'LPG' : 40.85,\n",
        "         'CNG' : 44.23} \n",
        "\n",
        "# apply(function, axis = 1) -> 행의 데이터를 다 쓸 수 있다\n",
        "def handle_mileage(x): \n",
        "    return x.mileage / fuels[x.fuel]          "
      ],
      "metadata": {
        "id": "ebgYh0MO9fqe"
      },
      "execution_count": null,
      "outputs": []
    },
    {
      "cell_type": "code",
      "source": [
        "df.mileage = df.apply(handle_mileage, axis = 1) \n",
        "df.mileage.head() "
      ],
      "metadata": {
        "id": "OlVDVwLB9fts"
      },
      "execution_count": null,
      "outputs": []
    },
    {
      "cell_type": "code",
      "source": [
        "df.drop('mileage_unit', axis = 1, inplace = True) \n",
        "df.columns"
      ],
      "metadata": {
        "id": "mkflPx2r9fyI"
      },
      "execution_count": null,
      "outputs": []
    },
    {
      "cell_type": "code",
      "source": [
        "df.torque.head() "
      ],
      "metadata": {
        "id": "AzBGye-_-uKm"
      },
      "execution_count": null,
      "outputs": []
    },
    {
      "cell_type": "code",
      "source": [
        "df.torque.unique() "
      ],
      "metadata": {
        "id": "vhT71O6A-uN1"
      },
      "execution_count": null,
      "outputs": []
    },
    {
      "cell_type": "code",
      "source": [
        "df.torque = df.torque.str.upper() "
      ],
      "metadata": {
        "id": "yimLA_62-uQ9"
      },
      "execution_count": null,
      "outputs": []
    },
    {
      "cell_type": "code",
      "source": [
        "# 단위를 뽑아내기 위해 사용하는 함수(torque 열) \n",
        "def handle_torque_unit(x):\n",
        "    if 'NM' in str(x):  # '문자열A' in '문자열 B' -> 문자열 B에 A를 포함하고 있나? - T/F\n",
        "        return 'Nm'     # Nm -> 단위\n",
        "    # elif 'KGM' in str(x): 웬만하면 elif 쓰지 마세요\n",
        "    if 'KGM' in str(x):  # x -> KGM? -> kgm 반환 값\n",
        "        return 'kgm'\n",
        "    # ---------\n",
        "    # ? -> None (return None)"
      ],
      "metadata": {
        "id": "_tXTlkRe-uU2"
      },
      "execution_count": null,
      "outputs": []
    },
    {
      "cell_type": "code",
      "source": [
        "df['torque_unit'] = df.torque.apply(handle_torque_unit) \n",
        "df.torque_unit.unique() "
      ],
      "metadata": {
        "id": "KsFlr6Bg9f1B"
      },
      "execution_count": null,
      "outputs": []
    },
    {
      "cell_type": "code",
      "source": [
        "df[df.torque_unit.isna()].torque.unique() # Nm 100보다 큰 값, kgm 100미만"
      ],
      "metadata": {
        "id": "b_yI-VmpS9p3"
      },
      "execution_count": null,
      "outputs": []
    },
    {
      "cell_type": "code",
      "source": [
        "df.torque_unit.fillna('Nm', inplace=True)"
      ],
      "metadata": {
        "id": "5KNBtfFNTCU9"
      },
      "execution_count": null,
      "outputs": []
    },
    {
      "cell_type": "code",
      "source": [
        "df.torque_unit.unique()"
      ],
      "metadata": {
        "id": "lqQvhpPC9f38"
      },
      "execution_count": null,
      "outputs": []
    },
    {
      "cell_type": "code",
      "source": [
        "# ([0-9\\.]+) find(find_one) / find_all\n",
        "# str.extract = 맨처음 검색되는 첫번째만. 2개 이상일 경우에는 1번째만. 없으면? None. -> nan.\n",
        "# str.extract_all = 리스트(여러개) []\n",
        "df.torque.str.extract('([\\d\\.]+)').astype('float64')"
      ],
      "metadata": {
        "id": "Hqp6vkUTAaum"
      },
      "execution_count": null,
      "outputs": []
    },
    {
      "cell_type": "code",
      "source": [
        "df.torque = df.torque.str.extract('([\\d\\.]+)').astype('float64')\n",
        "df.torque.head()"
      ],
      "metadata": {
        "id": "TYB4Eh2vAaxT"
      },
      "execution_count": null,
      "outputs": []
    },
    {
      "cell_type": "code",
      "source": [
        "df.torque_unit.unique()\n",
        "# 9.8066 kgm -> nm"
      ],
      "metadata": {
        "id": "8588kE7TTToV"
      },
      "execution_count": null,
      "outputs": []
    },
    {
      "cell_type": "code",
      "source": [
        "# 단위 변환\n",
        "def handle_torque_trans(x):\n",
        "    return x.torque * 9.8066 if x.torque_unit == 'kgm' else x.torque\n",
        "\n",
        "df.torque = df.apply(handle_torque_trans, axis=1)"
      ],
      "metadata": {
        "id": "FkJVoJg6KdMP"
      },
      "execution_count": null,
      "outputs": []
    },
    {
      "cell_type": "code",
      "source": [
        "df.torque.head()"
      ],
      "metadata": {
        "id": "NvAuKEHXTYOA"
      },
      "execution_count": null,
      "outputs": []
    },
    {
      "cell_type": "code",
      "source": [
        "df.drop('torque_unit', axis=1, inplace=True)"
      ],
      "metadata": {
        "id": "jTmiylkmTaqz"
      },
      "execution_count": null,
      "outputs": []
    },
    {
      "cell_type": "code",
      "source": [
        "df.columns"
      ],
      "metadata": {
        "id": "_gkY_8s4Tc7q"
      },
      "execution_count": null,
      "outputs": []
    },
    {
      "cell_type": "code",
      "source": [
        "df.name"
      ],
      "metadata": {
        "id": "51W4xPJRTdio"
      },
      "execution_count": null,
      "outputs": []
    },
    {
      "cell_type": "code",
      "source": [
        "# 맨 첫 단어만.\n",
        "df.name = df.name.str.split(expand=True)[0]\n",
        "df.name.unique()"
      ],
      "metadata": {
        "id": "0LUpTnytK5iv"
      },
      "execution_count": null,
      "outputs": []
    },
    {
      "cell_type": "code",
      "source": [
        "df.name = df.name.replace('Land', 'Land Rover') \n",
        "df.name.unique() "
      ],
      "metadata": {
        "id": "IYUWGoPHK5l2"
      },
      "execution_count": null,
      "outputs": []
    },
    {
      "cell_type": "code",
      "source": [
        "# 결측치의 평균\n",
        "df.isna().mean()\n",
        "# df.isna().mean().plot.barh()"
      ],
      "metadata": {
        "id": "crKPwUyLK5o4"
      },
      "execution_count": null,
      "outputs": []
    },
    {
      "cell_type": "code",
      "source": [
        "df.dropna(inplace=True)\n",
        "len(df) # 평균치 치환도 가능"
      ],
      "metadata": {
        "id": "9cdCszj8LeOv"
      },
      "execution_count": null,
      "outputs": []
    },
    {
      "cell_type": "code",
      "source": [
        "df.isna().mean().plot.barh()"
      ],
      "metadata": {
        "id": "kHakCAiITxK7"
      },
      "execution_count": null,
      "outputs": []
    },
    {
      "cell_type": "markdown",
      "source": [
        "## 범주형 변수 변환"
      ],
      "metadata": {
        "id": "VLmm-IhbMdyi"
      }
    },
    {
      "cell_type": "code",
      "source": [
        "df.describe(include = ['O'])"
      ],
      "metadata": {
        "id": "7Wze0AeAMqZ7"
      },
      "execution_count": null,
      "outputs": []
    },
    {
      "cell_type": "code",
      "source": [
        "df = pd.get_dummies(df,\n",
        "                    columns=['name', 'fuel', 'seller_type', 'transmission', 'owner'],\n",
        "                    drop_first=True)\n",
        "df"
      ],
      "metadata": {
        "id": "_flymUYJLeSf"
      },
      "execution_count": null,
      "outputs": []
    },
    {
      "cell_type": "code",
      "source": [
        "df.info()"
      ],
      "metadata": {
        "id": "bwnKU4M8LeWj"
      },
      "execution_count": null,
      "outputs": []
    },
    {
      "cell_type": "markdown",
      "source": [
        "### 훈련셋 & 시험셋 "
      ],
      "metadata": {
        "id": "0Qoyq8BINYlX"
      }
    },
    {
      "cell_type": "code",
      "source": [
        "from sklearn.model_selection import train_test_split\n",
        "\n",
        "# 중고차의 판매가격 -> selling_price (y)\n",
        "X = df.drop('selling_price', axis=1)\n",
        "y = df.selling_price\n",
        "X_train, X_test, y_train, y_test = train_test_split(\n",
        "    X, y, test_size=0.2, random_state=100)"
      ],
      "metadata": {
        "id": "zRLc-UOiNXxy"
      },
      "execution_count": null,
      "outputs": []
    },
    {
      "cell_type": "code",
      "source": [
        "# 연속형 변수 ; RandomForestRegressor\n",
        "# 범주형 변수 : RandomForestClassifier\n",
        "\n",
        "from sklearn.ensemble import RandomForestRegressor"
      ],
      "metadata": {
        "id": "Xoq9hqgQLeZ-"
      },
      "execution_count": null,
      "outputs": []
    },
    {
      "cell_type": "code",
      "source": [
        "model = RandomForestRegressor(random_state = 100)"
      ],
      "metadata": {
        "id": "rxENzkO5K5rh"
      },
      "execution_count": null,
      "outputs": []
    },
    {
      "cell_type": "code",
      "source": [
        "model.fit(X_train, y_train) # 학습\n",
        "train_pred = model.predict(X_train) # 훈련셋 예측 (잘 학습되었나? 과최적화, 오버피팅?)\n",
        "test_pred = model.predict(X_test) # 시험셋 예측 (잘 예측하나?, 언더피팅) "
      ],
      "metadata": {
        "id": "IKTOE79EOVw4"
      },
      "execution_count": null,
      "outputs": []
    },
    {
      "cell_type": "code",
      "source": [
        "# 분류하는 문제 : accurancy\n",
        "# 수치 예측 -> RMSE\n",
        "from sklearn.metrics import mean_squared_error\n",
        "print(\n",
        "    # 실제값, 예측값 -> 에러를 비교\n",
        "    \"train_rmse : \", mean_squared_error(y_train, train_pred, squared=False),\n",
        "    \"test_rmse : \", mean_squared_error(y_test, test_pred) ** 0.5 #1/2\n",
        ")"
      ],
      "metadata": {
        "id": "N06g3Pw6OV0L"
      },
      "execution_count": null,
      "outputs": []
    },
    {
      "cell_type": "markdown",
      "source": [
        "## k-Fold 교차검증 \n",
        "\n",
        "* 교차검증: 'train_test_split' 훈련셋 & 시험셋 ->  random.state ??? 1버전의 훈련셋?<br> 다양한 훈련셋 / 시험셋을 통해서 모델의 신뢰성을 높이기 위한 평가 과정\n",
        "\n",
        "* K-폴드 교차검증: 데이터를 K개를 쪼개서 그 중에 하나를 시험셋으로 선택하는 과정을 반복 -> 평균치 \n",
        "\n",
        "| A | B | C | D | E |\n",
        "|-|-|-|-|-| \n",
        "|훈|훈|훈|훈|훈|\n",
        "|훈|훈|훈|시|훈|\n",
        "|훈|훈|시|훈|훈|\n",
        "|훈|시|훈|훈|훈|\n",
        "|시|훈|훈|훈|훈| \n",
        "\n",
        "=> accurance_score? rmse? =? 평균\n"
      ],
      "metadata": {
        "id": "f9s-GR9-iZoN"
      }
    },
    {
      "cell_type": "code",
      "source": [
        "from sklearn.model_selection import KFold"
      ],
      "metadata": {
        "id": "q6mkDX_XOV3s"
      },
      "execution_count": null,
      "outputs": []
    },
    {
      "cell_type": "code",
      "source": [
        "df.index"
      ],
      "metadata": {
        "id": "1JtMu7XNgqpE"
      },
      "execution_count": null,
      "outputs": []
    },
    {
      "cell_type": "code",
      "source": [
        "# df.reset_index() 이렇게만 하면 컬럼하나 생김 \n",
        "# df.reset_index(drop = True) \n",
        "df.reset_index(drop = True, inplace = True) "
      ],
      "metadata": {
        "id": "3WA6Fjv9gqs0"
      },
      "execution_count": null,
      "outputs": []
    },
    {
      "cell_type": "code",
      "source": [
        "df.index"
      ],
      "metadata": {
        "id": "GkcUH694gqwf"
      },
      "execution_count": null,
      "outputs": []
    },
    {
      "cell_type": "code",
      "source": [
        "# 한계 : test_train_split? -> 랜덤인데? 1번만 한다 -> 다른 조합이면 값이 다를까?\n",
        "# 여러 조합으로 해봐야 한다 \n",
        "# 훈,훈,훈,훈,시 / 훈,훈,훈,시,훈 / (조합을 다양하게 해봐서 해당 지표들의 평균?) \n",
        "# K폴드 교차검증 (여러개의 시험셋 / 훈련셋을 비교해보자 -> 검증) \n",
        "kf = KFold(n_splits = 5) # KFFold 객체 "
      ],
      "metadata": {
        "id": "PJjiH3XHgq1B"
      },
      "execution_count": null,
      "outputs": []
    },
    {
      "cell_type": "code",
      "source": [
        "X = df.drop('selling_price', axis=1)\n",
        "y = df['selling_price']"
      ],
      "metadata": {
        "id": "8eZ_Z4E_lIX1"
      },
      "execution_count": null,
      "outputs": []
    },
    {
      "cell_type": "code",
      "source": [
        "for i, j in kf.split(X):\n",
        "    print(f\"i : {i}\") # 훈련셋의 인덱스\n",
        "    print(f\"j : {j}\") # 시험셋의 인덱스"
      ],
      "metadata": {
        "id": "duBZJ4xGlIbF"
      },
      "execution_count": null,
      "outputs": []
    },
    {
      "cell_type": "code",
      "source": [
        "train_rmse_total = []\n",
        "test_rmse_total = []\n",
        "\n",
        "for train_index, test_index in kf.split(X): # 반복 <- 5기준으로 나뉜 K-Fold\n",
        "    X_train, X_test = X.loc[train_index], X.loc[test_index] # 독립변수들의 훈련셋/시험셋\n",
        "    y_train, y_test = y[train_index], y[test_index] # 종속변수의 훈련셋/시험셋\n",
        "\n",
        "    model = RandomForestRegressor(random_state=100)\n",
        "    model.fit(X_train, y_train) # 학습\n",
        "    train_pred = model.predict(X_train) # 훈련셋 예측 (잘 학습되었나? 과최적화, 오버피팅?)\n",
        "    test_pred = model.predict(X_test) # 시험셋 예측 (잘 예측하나?, 언더피팅)\n",
        "\n",
        "    train_rmse = mean_squared_error(y_train, train_pred, squared=False)\n",
        "    test_rmse = mean_squared_error(y_test, test_pred) ** 0.5 # ** 1/2\n",
        "    \n",
        "    train_rmse_total.append(train_rmse)\n",
        "    test_rmse_total.append(test_rmse)"
      ],
      "metadata": {
        "id": "CUEF6x4glIeV"
      },
      "execution_count": null,
      "outputs": []
    },
    {
      "cell_type": "code",
      "source": [
        "train_rmse_total, test_rmse_total"
      ],
      "metadata": {
        "id": "4p4uLTS0lIhS"
      },
      "execution_count": null,
      "outputs": []
    },
    {
      "cell_type": "code",
      "source": [
        "print(\n",
        "    # 실제값, 예측값 -> 에러를 비교\n",
        "    \"train_rmse : \", sum(train_rmse_total) / len(train_rmse_total),\n",
        "    \"test_rmse : \", sum(test_rmse_total) / len(test_rmse_total)\n",
        ")"
      ],
      "metadata": {
        "id": "ehRysBcQgq54"
      },
      "execution_count": null,
      "outputs": []
    },
    {
      "cell_type": "markdown",
      "source": [
        "## 하이퍼 파라미터 튜닝\n",
        "\n",
        "* n_estimators (기본값 100) : 랜덤포레스트를 구성하는 결정트리 개수 \n",
        "  - 너무 많거나 적으면? : 성능과 예측력에 영향 \n",
        "\n",
        "* max_depth (결정트리 유사): 각 트리의 최대 깊이(단계) \n",
        "  - 오버피팅 / 언더피팅 : max_depth \n",
        "  - 커지면? -> 오버피팅, 작으면 -> 언더피팅 (학습이 잘 안됐다) \n",
        "\n",
        "* min_samples_split : 최소 몇 개의 데이터가 노드에 속하게 할 것인지 \n",
        "\n",
        "* min_samples_leaf : (최종적으로 나눠질) 최소 몇 개의 데이터가 노드에 속하게 할 것인지 \n",
        "\n",
        "* n_jobs : 병렬 처리 시 사용할 CPU 코어 수"
      ],
      "metadata": {
        "id": "dcDqzrj7wfb0"
      }
    },
    {
      "cell_type": "code",
      "source": [
        "train_rmse_total = []\n",
        "test_rmse_total = []\n",
        "\n",
        "for train_index, test_index in kf.split(X): # 반복 <- 5기준으로 나뉜 K-Fold\n",
        "    X_train, X_test = X.loc[train_index], X.loc[test_index] # 독립변수들의 훈련셋/시험셋\n",
        "    y_train, y_test = y[train_index], y[test_index] # 종속변수의 훈련셋/시험셋\n",
        "    model = RandomForestRegressor(\n",
        "        n_estimators = 300,\n",
        "        max_depth = 50,\n",
        "        min_samples_split = 5,\n",
        "        min_samples_leaf = 1,\n",
        "        n_jobs= -1,\n",
        "        random_state = 100\n",
        "    )\n",
        "    model.fit(X_train, y_train) # 학습\n",
        "    train_pred = model.predict(X_train) # 훈련셋 예측 (잘 학습되었나? 과최적화, 오버피팅?)\n",
        "    test_pred = model.predict(X_test) # 시험셋 예측 (잘 예측하나?, 언더피팅)\n",
        "    train_rmse = mean_squared_error(y_train, train_pred, squared=False)\n",
        "    test_rmse = mean_squared_error(y_test, test_pred) ** 0.5 # ** 1/2\n",
        "    train_rmse_total.append(train_rmse)\n",
        "    test_rmse_total.append(test_rmse)"
      ],
      "metadata": {
        "id": "oijZig9BOV6l"
      },
      "execution_count": null,
      "outputs": []
    },
    {
      "cell_type": "code",
      "source": [
        "print(\n",
        "    # 실제값, 예측값 -> 에러를 비교\n",
        "    \"train_rmse : \", sum(train_rmse_total) / len(train_rmse_total),\n",
        "    \"test_rmse : \", sum(test_rmse_total) / len(test_rmse_total)\n",
        ")"
      ],
      "metadata": {
        "id": "Wg_8cafVwtz2"
      },
      "execution_count": null,
      "outputs": []
    },
    {
      "cell_type": "code",
      "source": [],
      "metadata": {
        "id": "Z5mwEk-6wt3i"
      },
      "execution_count": null,
      "outputs": []
    },
    {
      "cell_type": "code",
      "source": [],
      "metadata": {
        "id": "VfBIBeSxwt7j"
      },
      "execution_count": null,
      "outputs": []
    },
    {
      "cell_type": "code",
      "source": [],
      "metadata": {
        "id": "k9RbB0fewt-g"
      },
      "execution_count": null,
      "outputs": []
    },
    {
      "cell_type": "code",
      "source": [],
      "metadata": {
        "id": "NLkAAYFqOV9Y"
      },
      "execution_count": null,
      "outputs": []
    },
    {
      "cell_type": "code",
      "source": [],
      "metadata": {
        "id": "KDvDXygeOWAb"
      },
      "execution_count": null,
      "outputs": []
    }
  ]
}