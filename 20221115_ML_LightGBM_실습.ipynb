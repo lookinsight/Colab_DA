{
  "nbformat": 4,
  "nbformat_minor": 0,
  "metadata": {
    "colab": {
      "private_outputs": true,
      "provenance": [],
      "toc_visible": true,
      "authorship_tag": "ABX9TyOZkGOnF+utkI4AZQG/8uVU",
      "include_colab_link": true
    },
    "kernelspec": {
      "name": "python3",
      "display_name": "Python 3"
    },
    "language_info": {
      "name": "python"
    },
    "accelerator": "GPU",
    "gpuClass": "standard"
  },
  "cells": [
    {
      "cell_type": "markdown",
      "metadata": {
        "id": "view-in-github",
        "colab_type": "text"
      },
      "source": [
        "<a href=\"https://colab.research.google.com/github/lookinsight/ml/blob/main/20221115_ML_LightGBM_%EC%8B%A4%EC%8A%B5.ipynb\" target=\"_parent\"><img src=\"https://colab.research.google.com/assets/colab-badge.svg\" alt=\"Open In Colab\"/></a>"
      ]
    },
    {
      "cell_type": "markdown",
      "source": [
        "# LightGBM"
      ],
      "metadata": {
        "id": "2bPDXWcY-SKZ"
      }
    },
    {
      "cell_type": "code",
      "source": [
        "import pandas as pd\n",
        "import numpy as np \n",
        "import matplotlib.pyplot as plt\n",
        "import seaborn as sns"
      ],
      "metadata": {
        "id": "1FXvxtWSH50N"
      },
      "execution_count": null,
      "outputs": []
    },
    {
      "cell_type": "code",
      "execution_count": null,
      "metadata": {
        "id": "jGDegFVv-LnP"
      },
      "outputs": [],
      "source": [
        "# https://www.kaggle.com/datasets/kartik2112/fraud-detection\n",
        "file_url = 'https://media.githubusercontent.com/media/musthave-ML10/data_source/main/fraud.csv'\n",
        "df = pd.read_csv(file_url)"
      ]
    },
    {
      "cell_type": "code",
      "source": [
        "df.head()"
      ],
      "metadata": {
        "id": "9rGHXjtk-Qpa"
      },
      "execution_count": null,
      "outputs": []
    },
    {
      "cell_type": "code",
      "source": [
        "df.columns"
      ],
      "metadata": {
        "id": "ulLz2JMk-QzI"
      },
      "execution_count": null,
      "outputs": []
    },
    {
      "cell_type": "markdown",
      "source": [
        "* trans_date_trans_time : 거래 시간\n",
        "* cc_num : 카드 번호. 고윳값이기 때문에 여기서는 id처럼 활용할 수 있음\n",
        "* merchant : 거래 상점\n",
        "* category : 거래 상점의 범주(애완용품, 여행, 엔터테인먼트 등)\n",
        "* amt: 거래금액 (amount)\n",
        "* first / last : 이름\n",
        "* gender : 성별\n",
        "* street / state / zip : 고객 거주지 정보\n",
        "* lat / long : 고객주소에 대한 위도 및 경도\n",
        "* city_pop : 고객의 zipcode 속하는 인구 수\n",
        "* job : 직업\n",
        "* dob : 생년월일\n",
        "* trans_num : 거래번호\n",
        "* unix_time : 거래시간 (유닉스 타임스탬프)\n",
        "* merch_lat / merch_long : 상점의 위경도\n",
        "---\n",
        "* is_fraud : 사기거래 여부 (이상거래 여부) -> 종속변수"
      ],
      "metadata": {
        "id": "XJW9SmfBK1P3"
      }
    },
    {
      "cell_type": "code",
      "source": [
        "df.info()"
      ],
      "metadata": {
        "id": "H4GOKDPNMmBn"
      },
      "execution_count": null,
      "outputs": []
    },
    {
      "cell_type": "code",
      "source": [
        "df.info(show_counts=True)"
      ],
      "metadata": {
        "id": "FeJicWAm-Q1r"
      },
      "execution_count": null,
      "outputs": []
    },
    {
      "cell_type": "code",
      "source": [
        "pd.options.display.float_format = '{:.2f}'.format\n",
        "df.describe()"
      ],
      "metadata": {
        "id": "cKV805VW-Q4l"
      },
      "execution_count": null,
      "outputs": []
    },
    {
      "cell_type": "markdown",
      "source": [
        "## 전처리"
      ],
      "metadata": {
        "id": "ZQmXEKKkMpvN"
      }
    },
    {
      "cell_type": "code",
      "source": [
        "# 사용되지 않는 변수 제거\n",
        "df.drop(['first', 'last', # 이름\n",
        "         'street', 'city', 'state', 'zip', # 주소\n",
        "         'trans_num', 'unix_time', # 거래번호 / 유닉스타임 (중복)\n",
        "         'job', 'merchant' # 직업, 가게\n",
        "         ], axis=1, inplace=True)"
      ],
      "metadata": {
        "id": "MLgrIjh1-Q7d"
      },
      "execution_count": null,
      "outputs": []
    },
    {
      "cell_type": "code",
      "source": [
        "# 날짜 형태의 데이터 Object 문자열로 저장되었다가 \n",
        "df['trans_date_trans_time'] = pd.to_datetime(df['trans_date_trans_time'])\n",
        "df.info()"
      ],
      "metadata": {
        "id": "F8gcTLks-Q-V"
      },
      "execution_count": null,
      "outputs": []
    },
    {
      "cell_type": "markdown",
      "source": [
        "## 피처엔지니어링\n",
        "\n",
        "* 원래 고객의 거래패턴에서 벗어나는 거래"
      ],
      "metadata": {
        "id": "Hg--RBNJNULt"
      }
    },
    {
      "cell_type": "code",
      "source": [
        "#@title 결제 금액\n",
        "# Z 점수 (정규분포) <- (x - 평균) / 표준편차\n",
        "# amt_info = df.groupby('cc_num').agg(['mean', 'std'])\n",
        "# cc_num : 카드번호별 그룹을 묶어서, agg -> 여러 그룹함수(여러개의 값들을 통해 계산하는 통계값)\n",
        "# mean = 평균 / std = 표준편차 => amt(결제금액) => cc_num\n",
        "amt_info = df.groupby('cc_num').agg(['mean', 'std']).amt.reset_index()\n",
        "amt_info.head()"
      ],
      "metadata": {
        "id": "y8iwNxxQ-RBI"
      },
      "execution_count": null,
      "outputs": []
    },
    {
      "cell_type": "code",
      "source": [
        "# A.merge(B, on = KEY, how=WAY)\n",
        "# A라는 데이터프레임에 B를 합쳐주겠다 => (index?) => cc_num\n",
        "# LEFT\n",
        "df = df.merge(amt_info, on = 'cc_num', how='left')"
      ],
      "metadata": {
        "id": "Nq-OSgzf-Rlo"
      },
      "execution_count": null,
      "outputs": []
    },
    {
      "cell_type": "code",
      "source": [
        "df.columns "
      ],
      "metadata": {
        "id": "jLz21uLvOp6K"
      },
      "execution_count": null,
      "outputs": []
    },
    {
      "cell_type": "code",
      "source": [
        "df[['cc_num', 'amt', 'mean', 'std']].head()"
      ],
      "metadata": {
        "id": "kTjRysuoQY2Z"
      },
      "execution_count": null,
      "outputs": []
    },
    {
      "cell_type": "code",
      "source": [
        "# (x - 평균)/표준편차\n",
        "df['amt_z_score'] = (df['amt'] - df['mean']) / df['std']"
      ],
      "metadata": {
        "id": "DSK6rnC-Op9N"
      },
      "execution_count": null,
      "outputs": []
    },
    {
      "cell_type": "code",
      "source": [
        "df['amt_z_score'].head()"
      ],
      "metadata": {
        "id": "rjnOM8jMOqAy"
      },
      "execution_count": null,
      "outputs": []
    },
    {
      "cell_type": "code",
      "source": [
        "df.drop(['mean', 'std'], axis=1, inplace=True)"
      ],
      "metadata": {
        "id": "Ui59vtsBOqFx"
      },
      "execution_count": null,
      "outputs": []
    },
    {
      "cell_type": "code",
      "source": [
        "#@title 범주별 결제금액\n",
        "# 결제를 한 사람의 카드번호 / 결제가 일어난 상점의 종류(분류)\n",
        "# agg -> 그룹을 대상으로 통계값. 그룹함수\n",
        "# mean : 평균 / std : 표준편차\n",
        "category_info = df.groupby(['cc_num', 'category']).agg(['mean', 'std'])['amt'].reset_index()"
      ],
      "metadata": {
        "id": "iSY5hjxHOqJK"
      },
      "execution_count": null,
      "outputs": []
    },
    {
      "cell_type": "code",
      "source": [
        "category_info.head()"
      ],
      "metadata": {
        "id": "Eiig_DhqOqLg"
      },
      "execution_count": null,
      "outputs": []
    },
    {
      "cell_type": "code",
      "source": [
        "# cc_num, category -> merge. / mean, std => z_score / mean, std? drop\n",
        "df = df.merge(category_info, on=['cc_num', 'category'], how='left')\n",
        "df[['cc_num', 'category', 'amt', 'mean', 'std']].head()"
      ],
      "metadata": {
        "id": "Fdjwk5xAOqNs"
      },
      "execution_count": null,
      "outputs": []
    },
    {
      "cell_type": "code",
      "source": [
        "df['cat_z_score'] = (df['amt'] - df['mean']) / df['std']"
      ],
      "metadata": {
        "id": "Q2gty8GD-Rot"
      },
      "execution_count": null,
      "outputs": []
    },
    {
      "cell_type": "code",
      "source": [
        "df['cat_z_score'].head()"
      ],
      "metadata": {
        "id": "eWnFgwiG-Rre"
      },
      "execution_count": null,
      "outputs": []
    },
    {
      "cell_type": "code",
      "source": [
        "df.drop(['mean','std'], axis = 1, inplace = True)"
      ],
      "metadata": {
        "id": "6kVJyrkfaEdy"
      },
      "execution_count": null,
      "outputs": []
    },
    {
      "cell_type": "code",
      "source": [
        "import geopy.distance"
      ],
      "metadata": {
        "id": "mp4f6pLH-Rt3"
      },
      "execution_count": null,
      "outputs": []
    },
    {
      "cell_type": "code",
      "source": [
        "# 두 지점 간의 거리 (위경도)\n",
        "# geopy.distance.distance((lat1, lng1), (lat2, lng2))"
      ],
      "metadata": {
        "id": "ylc4SqFsW8wc"
      },
      "execution_count": null,
      "outputs": []
    },
    {
      "cell_type": "code",
      "source": [
        "# coordinate 좌표 (위.경도)\n",
        "# -- 좌표 : (위도, 경도) - latitude(위도)->북/남 / longitude(경도)->동/서\n",
        "# 1. 상점의 위치 (merchant)\n",
        "# 2. 고객의 위치 (customer)\n",
        "df['merch_coord'] = pd.Series(zip(df.merch_lat, df.merch_long))\n",
        "df['cust_coord'] = pd.Series(zip(df['lat'], df['long']))"
      ],
      "metadata": {
        "id": "rSJFMoTUW8zg"
      },
      "execution_count": null,
      "outputs": []
    },
    {
      "cell_type": "code",
      "source": [
        "# df['distance'] = df.apply(lambda x: geopy.distance.distance(x['merch_coord'], x['cust_coord']), axis = 1)\n",
        "df['distance'] = df.apply(lambda x: geopy.distance.distance(x['merch_coord'], x['cust_coord']).km, axis=1)"
      ],
      "metadata": {
        "id": "0VSHl4NzW82d"
      },
      "execution_count": null,
      "outputs": []
    },
    {
      "cell_type": "code",
      "source": [
        "df2 = df.copy()"
      ],
      "metadata": {
        "id": "juzh34h5dOEk"
      },
      "execution_count": null,
      "outputs": []
    },
    {
      "cell_type": "code",
      "source": [
        "df2.distance"
      ],
      "metadata": {
        "id": "w3vPeBdudWCt"
      },
      "execution_count": null,
      "outputs": []
    },
    {
      "cell_type": "code",
      "source": [
        "# .km 빼먹으면 -> 단위를 포함해서 object -> object => float\n",
        "# df['distance'] = df['distance'].str.split(expand=True)[0].astype('float64')"
      ],
      "metadata": {
        "id": "9TwLtZWNauRs"
      },
      "execution_count": null,
      "outputs": []
    },
    {
      "cell_type": "code",
      "source": [
        "distance_info = df.groupby('cc_num').agg(['mean', 'std'])['distance'].reset_index()"
      ],
      "metadata": {
        "id": "ad-moUntW85W"
      },
      "execution_count": null,
      "outputs": []
    },
    {
      "cell_type": "code",
      "source": [
        "distance_info"
      ],
      "metadata": {
        "id": "yaiWNQxtdjJr"
      },
      "execution_count": null,
      "outputs": []
    },
    {
      "cell_type": "code",
      "source": [
        "df = df.merge(distance_info, on = 'cc_num', how='left')\n",
        "df['distance_z_score'] = (df['distance'] - df['mean']) / df['std']"
      ],
      "metadata": {
        "id": "SCZoTgZjW88U"
      },
      "execution_count": null,
      "outputs": []
    },
    {
      "cell_type": "code",
      "source": [
        "df['distance_z_score']"
      ],
      "metadata": {
        "id": "AS7m8zKkBFfv"
      },
      "execution_count": null,
      "outputs": []
    },
    {
      "cell_type": "code",
      "source": [
        "df.drop(['mean', 'std'], axis=1, inplace=True)"
      ],
      "metadata": {
        "id": "ISw39MGQW9AO"
      },
      "execution_count": null,
      "outputs": []
    },
    {
      "cell_type": "code",
      "source": [
        "df.head()"
      ],
      "metadata": {
        "id": "IkRm-6fzcVXW"
      },
      "execution_count": null,
      "outputs": []
    },
    {
      "cell_type": "code",
      "source": [
        "df.isna().mean()"
      ],
      "metadata": {
        "id": "cqOP3hU0BKdQ"
      },
      "execution_count": null,
      "outputs": []
    },
    {
      "cell_type": "code",
      "source": [
        "df['dob'] # yyyy-MM-dd"
      ],
      "metadata": {
        "id": "5pGiMTcodeu2"
      },
      "execution_count": null,
      "outputs": []
    },
    {
      "cell_type": "code",
      "source": [
        "pd.to_datetime(df['dob'])"
      ],
      "metadata": {
        "id": "p4UYb-ivdhd6"
      },
      "execution_count": null,
      "outputs": []
    },
    {
      "cell_type": "code",
      "source": [
        "# pd.to_datetime(df['dob']).dt # 날짜/시간 관련된 메소드.프로퍼티\n",
        "pd.to_datetime(df['dob']).dt.year"
      ],
      "metadata": {
        "id": "b-4qJt2rdj6B"
      },
      "execution_count": null,
      "outputs": []
    },
    {
      "cell_type": "code",
      "source": [
        "df['age'] = 2021 - pd.to_datetime(df['dob']).dt.year # 만 나이"
      ],
      "metadata": {
        "id": "sI1TJOUDcVa7"
      },
      "execution_count": null,
      "outputs": []
    },
    {
      "cell_type": "code",
      "source": [
        "df.age"
      ],
      "metadata": {
        "id": "TUCR0agHd3xI"
      },
      "execution_count": null,
      "outputs": []
    },
    {
      "cell_type": "code",
      "source": [
        "df.drop(['cc_num', 'lat', 'long',\n",
        "         'merch_lat', 'merch_long', 'dob',\n",
        "         'merch_coord', 'cust_coord'], axis=1, inplace=True)"
      ],
      "metadata": {
        "id": "5TL4CK4ed9GJ"
      },
      "execution_count": null,
      "outputs": []
    },
    {
      "cell_type": "code",
      "source": [
        "df = pd.get_dummies(df, columns = ['category', 'gender'], drop_first=True)"
      ],
      "metadata": {
        "id": "Wv40c2SLcVdW"
      },
      "execution_count": null,
      "outputs": []
    },
    {
      "cell_type": "code",
      "source": [
        "df # 과거의 데이터 -> 미래를 예측 / 과거데이터 (훈련셋) - 미래 데이터 (시험셋)\n",
        "# trans_date_trans_time => 인덱스 -> 훈련셋 / 시험셋"
      ],
      "metadata": {
        "id": "CjQLaYF4cVgd"
      },
      "execution_count": null,
      "outputs": []
    },
    {
      "cell_type": "code",
      "source": [
        "df.set_index('trans_date_trans_time', inplace=True)"
      ],
      "metadata": {
        "id": "_TjPDY9Zdnas"
      },
      "execution_count": null,
      "outputs": []
    },
    {
      "cell_type": "code",
      "source": [
        "df.index # 2020-07-01"
      ],
      "metadata": {
        "id": "uuKt1vWEdnhX"
      },
      "execution_count": null,
      "outputs": []
    },
    {
      "cell_type": "code",
      "source": [
        "train = df[df.index < '2020-07-01']\n",
        "test = df[df.index >= '2020-07-01']"
      ],
      "metadata": {
        "id": "Ns2PnQCXdnlc"
      },
      "execution_count": null,
      "outputs": []
    },
    {
      "cell_type": "code",
      "source": [
        "X_train = train.drop('is_fraud', axis = 1) \n",
        "y_train = train['is_fraud'] \n",
        "X_test = test.drop('is_fraud', axis = 1) \n",
        "y_test = test['is_fraud'] "
      ],
      "metadata": {
        "id": "7xTcOfTydnpB"
      },
      "execution_count": null,
      "outputs": []
    },
    {
      "cell_type": "code",
      "source": [
        "import lightgbm as lgb"
      ],
      "metadata": {
        "id": "lnknKk9iebFI"
      },
      "execution_count": null,
      "outputs": []
    },
    {
      "cell_type": "code",
      "source": [
        "model = lgb.LGBMClassifier(random_state = 100) \n",
        "model.fit(X_train, y_train) \n",
        "pred = model.predict(X_test)"
      ],
      "metadata": {
        "id": "MiBifz1WebIP"
      },
      "execution_count": null,
      "outputs": []
    },
    {
      "cell_type": "code",
      "source": [
        "from sklearn.metrics import accuracy_score\n",
        "accuracy_score(y_test, pred)"
      ],
      "metadata": {
        "id": "Q_x1PhmBe8Zn"
      },
      "execution_count": null,
      "outputs": []
    },
    {
      "cell_type": "code",
      "source": [
        "1 - df.is_fraud.mean()"
      ],
      "metadata": {
        "id": "wHbZ08t3e8c-"
      },
      "execution_count": null,
      "outputs": []
    },
    {
      "cell_type": "code",
      "source": [
        "from sklearn.metrics import confusion_matrix, classification_report, roc_auc_score"
      ],
      "metadata": {
        "id": "tt4P8NEqe8gB"
      },
      "execution_count": null,
      "outputs": []
    },
    {
      "cell_type": "code",
      "source": [
        "def confusion_matrix_view(y_test, pred):\n",
        "    cf_matrix = confusion_matrix(y_test, pred)\n",
        "    print(cf_matrix)\n",
        "    group_names = ['TN','FP','FN','TP']\n",
        "    group_counts = [\"{0:0.0f}\".format(value) for value in\n",
        "                    cf_matrix.flatten()]\n",
        "    group_percentages = [\"{0:.2%}\".format(value) for value in\n",
        "                        cf_matrix.flatten()/np.sum(cf_matrix)]\n",
        "    labels = [f\"{v1}\\n{v2}\\n{v3}\" for v1, v2, v3 in\n",
        "            zip(group_names,group_counts,group_percentages)]\n",
        "    labels = np.asarray(labels).reshape(2,2)\n",
        "    sns.heatmap(cf_matrix, annot=labels, fmt='', cmap='coolwarm')\n",
        "    plt.ylabel('True')\n",
        "    plt.xlabel('Predicted')\n",
        "    plt.show()\n",
        "    print(classification_report(y_test, pred))\n",
        "\n",
        "cf_matrix = confusion_matrix(y_test, pred)\n",
        "print(cf_matrix)\n",
        "group_names = ['TN','FP','FN','TP']\n",
        "group_counts = [\"{0:0.0f}\".format(value) for value in\n",
        "                cf_matrix.flatten()]\n",
        "group_percentages = [\"{0:.2%}\".format(value) for value in\n",
        "                     cf_matrix.flatten()/np.sum(cf_matrix)]\n",
        "labels = [f\"{v1}\\n{v2}\\n{v3}\" for v1, v2, v3 in\n",
        "          zip(group_names,group_counts,group_percentages)]\n",
        "labels = np.asarray(labels).reshape(2,2)\n",
        "sns.heatmap(cf_matrix, annot=labels, fmt='', cmap='coolwarm')\n",
        "plt.ylabel('True')\n",
        "plt.xlabel('Predicted')\n",
        "plt.show()"
      ],
      "metadata": {
        "id": "MWDBxh6ZeVtF"
      },
      "execution_count": null,
      "outputs": []
    },
    {
      "cell_type": "code",
      "source": [
        "# 정밀도(1종오류), 재현도(2종오류), f1-점수(전체)\n",
        "print(classification_report(y_test, pred))"
      ],
      "metadata": {
        "id": "KbZV0O_DeVwx"
      },
      "execution_count": null,
      "outputs": []
    },
    {
      "cell_type": "code",
      "source": [
        "# 0, 1 => 분류되기 전에 얼마나 가까운지? -> 0.5? 0.4? 0.8? (확률)\n",
        "proba = model.predict_proba(X_test)\n",
        "proba\n",
        "# 각행 -> 입력받은 test별로\n",
        "# 1열 : 0에 대한 예측값\n",
        "# 2열 : 1에 대한 예측값 <= 이상거래 여부"
      ],
      "metadata": {
        "id": "kQzivQQBeV16"
      },
      "execution_count": null,
      "outputs": []
    },
    {
      "cell_type": "code",
      "source": [
        "proba[:, 1] # 모든 행의 2열을 불러옴 -> 1에 대한 예측값 (이상거래 여부)"
      ],
      "metadata": {
        "id": "tvutG0zneV6W"
      },
      "execution_count": null,
      "outputs": []
    },
    {
      "cell_type": "code",
      "source": [
        "proba = proba[:, 1]"
      ],
      "metadata": {
        "id": "mMXCEAs9esQ4"
      },
      "execution_count": null,
      "outputs": []
    },
    {
      "cell_type": "code",
      "source": [
        "# default : 0.5 -> 크면은 1로 쳐주자\n",
        "# case1 : 0.2 더 헐겁게 하자\n",
        "# case2 : 0.8 엄격하게 하자\n",
        "# T/F -> 1/0 -> int -> 1.0.10....\n",
        "proba_int1 = (proba > 0.2).astype('int')\n",
        "proba_int2 = (proba > 0.8).astype('int')"
      ],
      "metadata": {
        "id": "Oh0snwI5esVA"
      },
      "execution_count": null,
      "outputs": []
    },
    {
      "cell_type": "code",
      "source": [
        "confusion_matrix_view(y_test, pred)"
      ],
      "metadata": {
        "id": "wzq1GKU4esZZ"
      },
      "execution_count": null,
      "outputs": []
    },
    {
      "cell_type": "code",
      "source": [
        "# 0.2 -> 1종오류는 늘고, 2종오류는 줄었어요\n",
        "confusion_matrix_view(y_test, proba_int1)"
      ],
      "metadata": {
        "id": "x7QPtfv8escj"
      },
      "execution_count": null,
      "outputs": []
    },
    {
      "cell_type": "code",
      "source": [
        "# 0.8 -> 2종오류는 늘고, 1종오류는 줄었어요\n",
        "confusion_matrix_view(y_test, proba_int2)"
      ],
      "metadata": {
        "id": "R9AbS7Mlf83e"
      },
      "execution_count": null,
      "outputs": []
    },
    {
      "cell_type": "markdown",
      "source": [
        "# ROC 곡선 & AUC\n",
        "* [참고](https://losskatsu.github.io/machine-learning/stat-roc-curve/#2-%EB%AF%BC%EA%B0%90%EB%8F%84%EC%99%80-%ED%8A%B9%EC%9D%B4%EB%8F%84)\n",
        "* 이진분류 모델을 평가하는 방법으로 기준점에 영향을 받지 않기 때문에 여러 모델을 비교할 때 요긴하게 사용\n",
        "* AUC는 ROC 곡선의 아래 면적을 의미\n",
        "    * 0.5~1 사이의 값을 지니며 높을수록 좋은 모델\n",
        "\n",
        "## ROC 곡선\n",
        "> 민감도, 특이도 개념을 활용\n",
        "\n",
        "### 민감도 (TPR)\n",
        "$TPR = \\frac{TP(참 양성)}{TP(참 양성) + FN(거짓 음성)}$\n",
        "* 재현율과 수식이 같음\n",
        "* 실제 1인 것 중 얼마만큼 제대로(1로) 예측되었는지\n",
        "* 1에 가까울 수록 좋은 수치\n",
        "\n",
        "### 특이도 (TNR) **\n",
        "$TNR = \\frac{TN(참 음성)}{FP(거짓 양성) + TN(참 음성)}$\n",
        "* 실제 0인 것 중 얼마만큼 제대로(0로) 예측되었는지\n",
        "* 1에 가까울 수록 좋은 수치\n",
        "$FPR = \\frac{FP(거짓 양성)}{FP(거짓 양성) + TN(참 음성)}$\n",
        "* 실제 0인 것 중 얼마만큼 잘못(1로) 예측되었는지\n",
        "* 0에 가까울 수록 좋은 수치\n",
        "$FPR = 1 - TNR$\n",
        "\n",
        "![ROC](https://i.imgur.com/euCumVh.png)\n",
        "* 기준점을 바꿨을 때 TPR, FPR이 어떻게 바뀌는지 보여주는 그래프\n",
        "* 최악의 경우 (학습이 전혀 안될 경우) -> 빨간색 점선\n",
        "\n",
        "### AUC (Area Under the ROC Curve)\n",
        "* ROC 곡선의 아래쪽에 해당하는 면적\n",
        "* 0.5~1 사이의 값을 가지며 커질 수록 더 좋은 분류기라는 의미\n",
        "![AUC](https://i.imgur.com/udlCMW4.png)"
      ],
      "metadata": {
        "id": "O21U045raMb-"
      }
    },
    {
      "cell_type": "code",
      "source": [
        "# 0과 1 얼마나 잘 분리하는지 \n",
        "roc_auc_score(y_test, proba)"
      ],
      "metadata": {
        "id": "e3R2VLWNf87h"
      },
      "execution_count": null,
      "outputs": []
    },
    {
      "cell_type": "markdown",
      "source": [
        "## 랜덤 그리드 서치 \n",
        "\n",
        "- 그리드 서치: 모든 조합에 대해서 모델링 <- 더 좋은? \n",
        "- 랜덤 그리드 서치: 더 넓은 영역의 하이퍼파라미터 값을 더 짧은 시간에 다양하게 활용 -> 일부만 추출해서 하기 때문에 <- 더 짧은 시간"
      ],
      "metadata": {
        "id": "cXlesAq5hIBY"
      }
    },
    {
      "cell_type": "code",
      "source": [
        "from sklearn.model_selection import RandomizedSearchCV"
      ],
      "metadata": {
        "id": "R6SJh46Kf8_u"
      },
      "execution_count": null,
      "outputs": []
    },
    {
      "cell_type": "code",
      "source": [
        "params = {\n",
        "    'n_estimators' : [100, 500, 1000],\n",
        "    'learning_rate' : [0.01, 0.05, 0.1, 0.3],\n",
        "    'lambda_l1' : [0, 10, 20, 30, 50],\n",
        "    'lambda_l2' : [0, 10, 20, 30, 50],\n",
        "    'max_depth' : [5, 10, 15, 20],\n",
        "    'subsample' : [0.6, 0.8, 1]\n",
        "}"
      ],
      "metadata": {
        "id": "G9KJX4oDhZFz"
      },
      "execution_count": null,
      "outputs": []
    },
    {
      "cell_type": "markdown",
      "source": [
        "## L1 정규화(lambda_l1)와 L2 정규화(lambda_l2)\n",
        "* 라쏘 회귀(lasso regression) - L1 정규화\n",
        "* 릿지 회귀(rigde regression) - L2 정규화\n",
        "> 둘 다 매개 변수에 패널티를 가해서 그 영향력(계수)을 감소 시키는 방법.<br>\n",
        "오버피팅을 방지하는 목적으로 쓰임"
      ],
      "metadata": {
        "id": "ACBzUpY6abjr"
      }
    },
    {
      "cell_type": "code",
      "source": [
        "model2 = lgb.LGBMClassifier(random_state=100)\n",
        "rs = RandomizedSearchCV(model2, param_distributions=params, n_iter=30,\n",
        "                        scoring='roc_auc', random_state=100, n_jobs=-1)"
      ],
      "metadata": {
        "id": "-r9cTNYGhZJL"
      },
      "execution_count": null,
      "outputs": []
    },
    {
      "cell_type": "code",
      "source": [
        "import time \n",
        "start = time.time()   # 시작시간 설정 \n",
        "rs.fit(X_train, y_train) \n",
        "print(time.time() - start) "
      ],
      "metadata": {
        "id": "4NjfqsfphZMd"
      },
      "execution_count": null,
      "outputs": []
    },
    {
      "cell_type": "code",
      "source": [
        "rs.best_params_"
      ],
      "metadata": {
        "id": "05bHfhuThZPR"
      },
      "execution_count": null,
      "outputs": []
    },
    {
      "cell_type": "code",
      "source": [
        "rs_proba = rs.predict_proba(X_test)"
      ],
      "metadata": {
        "id": "GBWeFJQHhZSQ"
      },
      "execution_count": null,
      "outputs": []
    },
    {
      "cell_type": "code",
      "source": [
        "roc_auc_score(y_test, rs_proba[:, 1]) "
      ],
      "metadata": {
        "id": "aRGy47t1hZVD"
      },
      "execution_count": null,
      "outputs": []
    },
    {
      "cell_type": "code",
      "source": [
        "rs_proba_int = (rs_proba[:, 1] > 0.2).astype('int')\n",
        "confusion_matrix_view(y_test, rs_proba_int)"
      ],
      "metadata": {
        "id": "6-DbZL_P3JWq"
      },
      "execution_count": null,
      "outputs": []
    },
    {
      "cell_type": "code",
      "source": [
        "confusion_matrix_view(y_test, proba_int1)"
      ],
      "metadata": {
        "id": "wrZ4evyC3Ka6"
      },
      "execution_count": null,
      "outputs": []
    },
    {
      "cell_type": "markdown",
      "source": [
        "## train() 함수\n",
        "\n",
        "* model.fit(X_train, y_train) => 학습 \n",
        "* model.train <- fit.\n",
        "---\n",
        "||train|fit|\n",
        "|-|-|-|\n",
        "|검증셋|모델링 - 검증셋|검증 x|\n",
        "|데이터셋||데이터프레임 -> 별도 포맷 변환|데이터프레임, 시리즈|\n",
        "|하이퍼파라미터|하이퍼파라미터 Default x|기본값| \n",
        "|사이킷런 연동|X|O (그리드 서치...)|\n",
        "\n",
        "학습 -> 학습셋 => model =>> 시험셋\n",
        "\n",
        "학습 -> 학습셋과는 별개로 (검증셋) => model "
      ],
      "metadata": {
        "id": "7dnlEVgI41_6"
      }
    },
    {
      "cell_type": "code",
      "source": [
        "# 훈련셋 / 시험셋 \n",
        "# 훈련셋 / 검증셋 / 시험셋 \n",
        "train = df[df.index < '2020-01-01']\n",
        "val = df[(df.index >= '2020-01-01') & (df.index < '2020-07-01')] \n",
        "test = df[df.index >= '2020-07-01']"
      ],
      "metadata": {
        "id": "JDTLt5b-3KeR"
      },
      "execution_count": null,
      "outputs": []
    },
    {
      "cell_type": "code",
      "source": [
        "def get_X_y(df):\n",
        "    X = df.drop('is_fraud', axis = 1)\n",
        "    y = df.is_fraud\n",
        "    return (X,y) "
      ],
      "metadata": {
        "id": "E1cFmfjw3Kif"
      },
      "execution_count": null,
      "outputs": []
    },
    {
      "cell_type": "code",
      "source": [
        "# 훈련셋, 검증셋, 시험샛(X, y) ) \n",
        "X_trian, y_train = get_X_y(train) \n",
        "X_val, y_val = get_X_y(val)\n",
        "X_test, y_test = get_X_y(test) "
      ],
      "metadata": {
        "id": "3qQ_ogXI3KnB"
      },
      "execution_count": null,
      "outputs": []
    },
    {
      "cell_type": "code",
      "source": [
        "# 데이터셋 변환\n",
        "d_train = lgb.Dataset(X_train, label=y_train)\n",
        "d_val = lgb.Dataset(X_val, label=y_val)"
      ],
      "metadata": {
        "id": "f5bKL0D33KrF"
      },
      "execution_count": null,
      "outputs": []
    },
    {
      "cell_type": "code",
      "source": [
        "param_set = rs.best_params_\n",
        "param_set['metrics'] = 'auc'"
      ],
      "metadata": {
        "id": "qZwQKa978kf4"
      },
      "execution_count": null,
      "outputs": []
    },
    {
      "cell_type": "code",
      "source": [
        "param_set"
      ],
      "metadata": {
        "id": "spHp3zeLe8kR"
      },
      "execution_count": null,
      "outputs": []
    },
    {
      "cell_type": "code",
      "source": [
        "model_train = lgb.train(param_set, d_train, valid_sets=[d_val],\n",
        "                        # early_stopping_rounds : 학습시간을 제한\n",
        "                        # verbose_eval : 중간결과를 특정 간격으로 출력\n",
        "                        early_stopping_rounds=100, verbose_eval=100)"
      ],
      "metadata": {
        "id": "e3WjXA-N8LWZ"
      },
      "execution_count": null,
      "outputs": []
    },
    {
      "cell_type": "code",
      "source": [
        "pred_train = model_train.predict(X_test)"
      ],
      "metadata": {
        "id": "8fUmmiHN8LbI"
      },
      "execution_count": null,
      "outputs": []
    },
    {
      "cell_type": "code",
      "source": [
        "roc_auc_score(y_test, pred_train) "
      ],
      "metadata": {
        "id": "xg1ChU7E8LfQ"
      },
      "execution_count": null,
      "outputs": []
    },
    {
      "cell_type": "code",
      "source": [
        "feature_imp = pd.DataFrame({'features': X_train.columns, 'values': model.feature_importances_}) \n",
        "plt.figure(figsize = (20, 10)) \n",
        "sns.barplot(x = 'values', y = 'features',\n",
        "            data = feature_imp.sort_values(by = 'values', ascending = False).head(10))"
      ],
      "metadata": {
        "id": "H_rXQ6D_9CcM"
      },
      "execution_count": null,
      "outputs": []
    },
    {
      "cell_type": "code",
      "source": [],
      "metadata": {
        "id": "t5Sdev609Cfo"
      },
      "execution_count": null,
      "outputs": []
    },
    {
      "cell_type": "code",
      "source": [],
      "metadata": {
        "id": "xhdc6HD-9Ci4"
      },
      "execution_count": null,
      "outputs": []
    },
    {
      "cell_type": "code",
      "source": [],
      "metadata": {
        "id": "mJdrR6bl9CmJ"
      },
      "execution_count": null,
      "outputs": []
    }
  ]
}