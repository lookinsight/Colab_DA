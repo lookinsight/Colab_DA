{
  "nbformat": 4,
  "nbformat_minor": 0,
  "metadata": {
    "colab": {
      "private_outputs": true,
      "provenance": [],
      "collapsed_sections": [],
      "authorship_tag": "ABX9TyP32yRFxDwBwUIaKYJF3xUM",
      "include_colab_link": true
    },
    "kernelspec": {
      "name": "python3",
      "display_name": "Python 3"
    },
    "language_info": {
      "name": "python"
    }
  },
  "cells": [
    {
      "cell_type": "markdown",
      "metadata": {
        "id": "view-in-github",
        "colab_type": "text"
      },
      "source": [
        "<a href=\"https://colab.research.google.com/github/lookinsight/ml/blob/main/20221107_ml_%EC%84%A0%ED%98%95%ED%9A%8C%EA%B7%80.ipynb\" target=\"_parent\"><img src=\"https://colab.research.google.com/assets/colab-badge.svg\" alt=\"Open In Colab\"/></a>"
      ]
    },
    {
      "cell_type": "markdown",
      "source": [
        "# Machine Learning\n",
        "\n",
        "- 인공지능 > 머신러닝 > 딥러닝 \n",
        "- 인공지능 : 인간의 뇌를 모방하는 모든 프로그램\n",
        "\n",
        "    ㄴ 머신러닝 : 데이터를 기반으로 학습해 무언가를 예측하거나, 데이터 자체의 어떤 특성을 찾아내는 프로그램\n",
        "\n",
        "        ㄴ 딥러닝 : 머신러닝 알고리즘 중 하나로, 인공 신경망에서 진환한 형태. 주로 이미지, 비디오, 자연어 분석에 쓰임"
      ],
      "metadata": {
        "id": "Qjpt0hhwI1ZH"
      }
    },
    {
      "cell_type": "markdown",
      "source": [
        "# 선형회귀: 보험료 예측\n",
        "\n",
        "1. 데이터 수정\n",
        "2. 데이터 전처리\n",
        "3. 모델 학습\n",
        "4. 모델 평가\n",
        "5. 모델 배포"
      ],
      "metadata": {
        "id": "VO6ACfWklReE"
      }
    },
    {
      "cell_type": "code",
      "source": [
        "import pandas as pd"
      ],
      "metadata": {
        "id": "cXyAQKClI7Ua"
      },
      "execution_count": null,
      "outputs": []
    },
    {
      "cell_type": "code",
      "source": [
        "#@title 데이터 수집\n",
        "# https://www.kaggle.com/datasets/awaiskaggler/insurance-csv\n",
        "file_name = \"insurance.csv\"   #@param{'type':'string'}\n",
        "url = f'https://raw.githubusercontent.com/bigdata-young/bigdata_16th/main/data/{file_name}'\n",
        "df = pd.read_csv(url)"
      ],
      "metadata": {
        "id": "cegz4A3El9O8"
      },
      "execution_count": null,
      "outputs": []
    },
    {
      "cell_type": "code",
      "source": [
        "df.head()"
      ],
      "metadata": {
        "id": "syolzTcvl9SJ"
      },
      "execution_count": null,
      "outputs": []
    },
    {
      "cell_type": "code",
      "source": [
        "df.info()   # Non-Null Count -> 결측치\n",
        "# Dtype -> datatype"
      ],
      "metadata": {
        "id": "YZnVf4nDl9Vf"
      },
      "execution_count": null,
      "outputs": []
    },
    {
      "cell_type": "code",
      "source": [
        "df.describe() # 연속형 숫자형 변수관련된 내용만 리포트"
      ],
      "metadata": {
        "id": "GEYivGXil9ct"
      },
      "execution_count": null,
      "outputs": []
    },
    {
      "cell_type": "code",
      "source": [
        "# 판다스 숫자 데이터를 소수점 n자리까지만 표시 (2)\n",
        "\n",
        "pd.options.display.float_format = '{:.2f}'.format"
      ],
      "metadata": {
        "id": "1gYsnFf-l9fh"
      },
      "execution_count": null,
      "outputs": []
    },
    {
      "cell_type": "code",
      "source": [
        "df.describe()"
      ],
      "metadata": {
        "id": "VMAsDNVvls-h"
      },
      "execution_count": null,
      "outputs": []
    },
    {
      "cell_type": "code",
      "source": [
        "#@title 데이터 전처리 (범주형)\n",
        "#@markdown 모델링 하기 좋게 데이터를 다듬는다\n",
        "\n",
        "from sklearn.linear_model import LinearRegression\n",
        "\n",
        "model = LinearRegression()\n",
        "\n",
        "# X : 독립변수(들), y : 종속변수(1개) \n",
        "df.columns\n",
        "X = df[['age', 'sex', 'bmi', 'children', 'smoker', 'region']]\n",
        "y = df.expenses\n",
        "model.fit(X, y) "
      ],
      "metadata": {
        "id": "exyJ0eIHlokw"
      },
      "execution_count": null,
      "outputs": []
    },
    {
      "cell_type": "code",
      "source": [
        "# https://www.w3schools.com/python/pandas/default.asp\n",
        "df.smoker"
      ],
      "metadata": {
        "id": "rXOkm47uI7Xp"
      },
      "execution_count": null,
      "outputs": []
    },
    {
      "cell_type": "code",
      "source": [
        "df.smoker.unique()"
      ],
      "metadata": {
        "id": "xrimvsp4xLW-"
      },
      "execution_count": null,
      "outputs": []
    },
    {
      "cell_type": "code",
      "source": [
        "df.smoker.eq('yes')\n",
        "# df.smoker == 'yes' "
      ],
      "metadata": {
        "id": "ClQJN_oDvrno"
      },
      "execution_count": null,
      "outputs": []
    },
    {
      "cell_type": "code",
      "source": [
        "df.smoker.eq('yes').mul(1)\n",
        "# df.smoker.eq('yes') * 1"
      ],
      "metadata": {
        "id": "5nvDFWX0vrrd"
      },
      "execution_count": null,
      "outputs": []
    },
    {
      "cell_type": "code",
      "source": [
        "df.smoker = df.smoker.eq('yes').mul(1)\n",
        "df"
      ],
      "metadata": {
        "id": "RfCsSW4dvrvA"
      },
      "execution_count": null,
      "outputs": []
    },
    {
      "cell_type": "code",
      "source": [
        "df.sex.unique()"
      ],
      "metadata": {
        "id": "GEmlfNX1vryM"
      },
      "execution_count": null,
      "outputs": []
    },
    {
      "cell_type": "code",
      "source": [
        "df.region.unique()   # 범주 보기"
      ],
      "metadata": {
        "id": "qSgQSIyIvr1T"
      },
      "execution_count": null,
      "outputs": []
    },
    {
      "cell_type": "code",
      "source": [
        "df.region.nunique()  # rottn qhrl"
      ],
      "metadata": {
        "id": "pL0gijEmvr4i"
      },
      "execution_count": null,
      "outputs": []
    },
    {
      "cell_type": "code",
      "source": [
        "df.dtypes"
      ],
      "metadata": {
        "id": "4ot7Ok-hvr7i"
      },
      "execution_count": null,
      "outputs": []
    },
    {
      "cell_type": "code",
      "source": [
        "pd.get_dummies(df, columns = ['sex','region'])"
      ],
      "metadata": {
        "id": "oS4bmmLDI7a0"
      },
      "execution_count": null,
      "outputs": []
    },
    {
      "cell_type": "code",
      "source": [
        "pd.get_dummies(df, columns = ['sex','region'], drop_first = True)"
      ],
      "metadata": {
        "id": "-Y6UWwI6I7eE"
      },
      "execution_count": null,
      "outputs": []
    },
    {
      "cell_type": "code",
      "source": [
        "df_dummy = pd.get_dummies(df, columns = ['sex','region'], drop_first = True)\n",
        "df_dummy"
      ],
      "metadata": {
        "id": "5ULbMQuRI7t3"
      },
      "execution_count": null,
      "outputs": []
    },
    {
      "cell_type": "code",
      "source": [
        " "
      ],
      "metadata": {
        "id": "ZGPFQ8z60Hi7"
      },
      "execution_count": null,
      "outputs": []
    },
    {
      "cell_type": "markdown",
      "source": [
        "# 얕은 복사, 깊은 복사\n",
        "\n",
        "- 얕은복사 : 주소만 참조하는 것"
      ],
      "metadata": {
        "id": "mjVznYvj0bhi"
      }
    },
    {
      "cell_type": "code",
      "source": [
        "v1 = ['a', 'b', 'c']\n",
        "v1"
      ],
      "metadata": {
        "id": "1PDrnsDc0HmL"
      },
      "execution_count": null,
      "outputs": []
    },
    {
      "cell_type": "code",
      "source": [
        "v2 = v1\n",
        "v2"
      ],
      "metadata": {
        "id": "xPIg0t1p0HpT"
      },
      "execution_count": null,
      "outputs": []
    },
    {
      "cell_type": "code",
      "source": [
        "v1.append('d')\n",
        "v1"
      ],
      "metadata": {
        "id": "NjVa7Q3b0HvK"
      },
      "execution_count": null,
      "outputs": []
    },
    {
      "cell_type": "code",
      "source": [
        "v2"
      ],
      "metadata": {
        "id": "_ONyEzgpI7w0"
      },
      "execution_count": null,
      "outputs": []
    },
    {
      "cell_type": "code",
      "source": [
        "# deepcopy 방식중 하나 \n",
        "\n",
        "v3 = \".\".join(v1).split(',') \n",
        "v3"
      ],
      "metadata": {
        "id": "5qCFdkIYI7zx"
      },
      "execution_count": null,
      "outputs": []
    },
    {
      "cell_type": "code",
      "source": [
        "v1.append('e') \n",
        "v1, v3"
      ],
      "metadata": {
        "id": "YCFm-Or80xqw"
      },
      "execution_count": null,
      "outputs": []
    },
    {
      "cell_type": "code",
      "source": [],
      "metadata": {
        "id": "DZ_7VLg50xt4"
      },
      "execution_count": null,
      "outputs": []
    },
    {
      "cell_type": "markdown",
      "source": [
        "## 데이터 전처리 (훈련셋, 시험셋) \n",
        "\n",
        "- 훈련을 한 것으로 모델을 시험을 하면 맞출 수 밖에 없음 \n",
        "- 데이터의 일부를 시험셋으로 독립시켜서, 훈련셋과 시험셋."
      ],
      "metadata": {
        "id": "z59VyPsR5n9V"
      }
    },
    {
      "cell_type": "code",
      "source": [
        "# X, y => 독립변수, 종속변수\n",
        "df_dummy.tail()"
      ],
      "metadata": {
        "id": "SJbl1tah0x0J"
      },
      "execution_count": null,
      "outputs": []
    },
    {
      "cell_type": "code",
      "source": [
        "df_dummy.columns"
      ],
      "metadata": {
        "id": "7Evuim0w6M6Y"
      },
      "execution_count": null,
      "outputs": []
    },
    {
      "cell_type": "code",
      "source": [
        "X = df_dummy[['age', 'bmi', 'children', 'smoker', 'sex_male',\n",
        "       'region_northwest', 'region_southeast', 'region_southwest']]\n",
        "y = df_dummy.expenses"
      ],
      "metadata": {
        "id": "5snClLdI0x3E"
      },
      "execution_count": null,
      "outputs": []
    },
    {
      "cell_type": "code",
      "source": [
        "from sklearn.model_selection import train_test_split "
      ],
      "metadata": {
        "id": "Ps6BFKHI0x6i"
      },
      "execution_count": null,
      "outputs": []
    },
    {
      "cell_type": "code",
      "source": [
        "help(train_test_split) "
      ],
      "metadata": {
        "id": "UHZwhMD97iCo"
      },
      "execution_count": null,
      "outputs": []
    },
    {
      "cell_type": "code",
      "source": [
        "# test_size : 비율 -> 테스트셋(시험셋) 비율\n",
        "# random_state : seed값 -> 임의로 결정되는 값을 특정 값으로 만드는. \n",
        "len(train_test_split(X, y, test_size = 0.2, random_state = 100))"
      ],
      "metadata": {
        "id": "TmCJ5qEY6574"
      },
      "execution_count": null,
      "outputs": []
    },
    {
      "cell_type": "code",
      "source": [
        "X_train, X_test, y_train, y_test = train_test_split(X, y, test_size = 0.2, random_state = 100)"
      ],
      "metadata": {
        "id": "OHbw19bl65_Q"
      },
      "execution_count": null,
      "outputs": []
    },
    {
      "cell_type": "markdown",
      "source": [
        "## 모델 학습"
      ],
      "metadata": {
        "id": "hpiZVvZr8uWq"
      }
    },
    {
      "cell_type": "code",
      "source": [
        "from sklearn.linear_model import LinearRegression \n"
      ],
      "metadata": {
        "id": "NPDd_JTo0x-W"
      },
      "execution_count": null,
      "outputs": []
    },
    {
      "cell_type": "code",
      "source": [
        "model.fit(X_train, y_train) "
      ],
      "metadata": {
        "id": "DktkkZQ26yEd"
      },
      "execution_count": null,
      "outputs": []
    },
    {
      "cell_type": "code",
      "source": [
        "# 예측\n",
        "pred = model.predict(X_test) \n",
        "pred"
      ],
      "metadata": {
        "id": "bF_cpQpE9NBe"
      },
      "execution_count": null,
      "outputs": []
    },
    {
      "cell_type": "markdown",
      "source": [
        "## 모델 평가 "
      ],
      "metadata": {
        "id": "JNjXdTiB9Gvz"
      }
    },
    {
      "cell_type": "code",
      "source": [
        "comparison = pd.DataFrame({'actual': y_test, 'pred': pred})\n",
        "comparison"
      ],
      "metadata": {
        "id": "Et82l_sx8-I6"
      },
      "execution_count": null,
      "outputs": []
    },
    {
      "cell_type": "markdown",
      "source": [
        "## 평가를 위한 시각화"
      ],
      "metadata": {
        "id": "sTuX3VIi-DML"
      }
    },
    {
      "cell_type": "code",
      "source": [
        "import matplotlib.pyplot as plt\n",
        "import seaborn as sns "
      ],
      "metadata": {
        "id": "nkXURxyy9cbY"
      },
      "execution_count": null,
      "outputs": []
    },
    {
      "cell_type": "code",
      "source": [
        "plt.figure(figsize = (5, 5))\n",
        "sns.scatterplot(x = 'actual', y = 'pred', data = comparison)"
      ],
      "metadata": {
        "id": "CC94m6Oh9cfL"
      },
      "execution_count": null,
      "outputs": []
    },
    {
      "cell_type": "code",
      "source": [
        "#@title mean_squared_error\n",
        "from sklearn.metrics import mean_squared_error"
      ],
      "metadata": {
        "id": "xgyZCeSW9cir"
      },
      "execution_count": null,
      "outputs": []
    },
    {
      "cell_type": "code",
      "source": [
        "# MSE\n",
        "mean_squared_error(y_test, pred) "
      ],
      "metadata": {
        "id": "bfWKSemD8-MG"
      },
      "execution_count": null,
      "outputs": []
    },
    {
      "cell_type": "code",
      "source": [
        "# RMSE\n",
        "# mean_squared_error(y_test, pred) ** 0.5\n",
        "mean_squared_error(y_test, pred, squared = False) "
      ],
      "metadata": {
        "id": "y3pYrdJU8-Qj"
      },
      "execution_count": null,
      "outputs": []
    },
    {
      "cell_type": "code",
      "source": [
        "# R^2 : 결정계수 (독립변수가 종속변수를 얼마나 잘 설명하는가?) \n",
        "model.score(X_train, y_train) "
      ],
      "metadata": {
        "id": "BYedQVze_2Gu"
      },
      "execution_count": null,
      "outputs": []
    },
    {
      "cell_type": "code",
      "source": [
        "model.coef_"
      ],
      "metadata": {
        "id": "lmbUjf3cA-Dw"
      },
      "execution_count": null,
      "outputs": []
    },
    {
      "cell_type": "code",
      "source": [
        "pd.Series(model.coef_, index = X.columns) "
      ],
      "metadata": {
        "id": "5343WdjgA-Hq"
      },
      "execution_count": null,
      "outputs": []
    },
    {
      "cell_type": "code",
      "source": [
        "model.intercept_"
      ],
      "metadata": {
        "id": "-9as7ubqA-Pm"
      },
      "execution_count": null,
      "outputs": []
    },
    {
      "cell_type": "markdown",
      "source": [
        "## 모델 배포"
      ],
      "metadata": {
        "id": "adMHINz6FsKp"
      }
    },
    {
      "cell_type": "code",
      "source": [
        "!pip install mlxtend --quiet"
      ],
      "metadata": {
        "id": "K2Ztt5Zo_2Kc"
      },
      "execution_count": null,
      "outputs": []
    },
    {
      "cell_type": "code",
      "source": [
        "import joblib\n",
        "\n",
        "joblib.dump(model, 'first_model.pkl') "
      ],
      "metadata": {
        "id": "ahcnQUvg_2OL"
      },
      "execution_count": null,
      "outputs": []
    },
    {
      "cell_type": "code",
      "source": [
        "model_from_joblib = joblib.load('first_model.pkl') \n",
        "pd.Series(model_from_joblib.coef_, index = X.columns) "
      ],
      "metadata": {
        "id": "DLMkE-3dGWek"
      },
      "execution_count": null,
      "outputs": []
    },
    {
      "cell_type": "code",
      "source": [],
      "metadata": {
        "id": "2kmkxvxgGWik"
      },
      "execution_count": null,
      "outputs": []
    },
    {
      "cell_type": "code",
      "source": [],
      "metadata": {
        "id": "u3yWZDht8-TK"
      },
      "execution_count": null,
      "outputs": []
    },
    {
      "cell_type": "code",
      "source": [],
      "metadata": {
        "id": "AiLpgfewI723"
      },
      "execution_count": null,
      "outputs": []
    }
  ]
}