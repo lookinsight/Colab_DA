{
  "nbformat": 4,
  "nbformat_minor": 0,
  "metadata": {
    "colab": {
      "private_outputs": true,
      "provenance": [],
      "collapsed_sections": [
        "ArfP0tiaDtCS",
        "diEmT17CFeF9"
      ],
      "authorship_tag": "ABX9TyNVPJZsIYX5etgBMW86mHbu",
      "include_colab_link": true
    },
    "kernelspec": {
      "name": "python3",
      "display_name": "Python 3"
    },
    "language_info": {
      "name": "python"
    },
    "accelerator": "GPU",
    "gpuClass": "standard"
  },
  "cells": [
    {
      "cell_type": "markdown",
      "metadata": {
        "id": "view-in-github",
        "colab_type": "text"
      },
      "source": [
        "<a href=\"https://colab.research.google.com/github/lookinsight/ml/blob/main/20221115_ML_XGBoost_%EC%8B%A4%EC%8A%B5.ipynb\" target=\"_parent\"><img src=\"https://colab.research.google.com/assets/colab-badge.svg\" alt=\"Open In Colab\"/></a>"
      ]
    },
    {
      "cell_type": "markdown",
      "source": [
        "# XGBoost - 커플 성사 여부 예측"
      ],
      "metadata": {
        "id": "E7XFfwOzCNHm"
      }
    },
    {
      "cell_type": "code",
      "execution_count": null,
      "metadata": {
        "id": "wx1AO0Df__vZ"
      },
      "outputs": [],
      "source": [
        "import pandas as pd\n",
        "import numpy as np \n",
        "import matplotlib.pyplot as plt\n",
        "import seaborn as sns"
      ]
    },
    {
      "cell_type": "code",
      "source": [
        "# https://www.kaggle.com/datasets/annavictoria/speed-dating-experiment\n",
        "file_url = 'https://raw.githubusercontent.com/bigdata-young/bigdata_16th/main/data/dating.csv'\n",
        "df = pd.read_csv(file_url)"
      ],
      "metadata": {
        "id": "21Cw1kkfAE18"
      },
      "execution_count": null,
      "outputs": []
    },
    {
      "cell_type": "code",
      "source": [
        "df.head()"
      ],
      "metadata": {
        "id": "ey7VnPRbAE5F"
      },
      "execution_count": null,
      "outputs": []
    },
    {
      "cell_type": "code",
      "source": [
        "pd.options.display.max_columns = 40 # 총 40개 컬럼까지 출력되도록 설정"
      ],
      "metadata": {
        "id": "aeXMWLKwAE8i"
      },
      "execution_count": null,
      "outputs": []
    },
    {
      "cell_type": "code",
      "source": [
        "df.head()"
      ],
      "metadata": {
        "id": "SYS2HpWkAE_M"
      },
      "execution_count": null,
      "outputs": []
    },
    {
      "cell_type": "code",
      "source": [
        "df.info() # 결측치와 변수 타입"
      ],
      "metadata": {
        "id": "DOlOiIQdAFCj"
      },
      "execution_count": null,
      "outputs": []
    },
    {
      "cell_type": "markdown",
      "source": [
        "## 변수 목록\n",
        "* has_null\n",
        "    - 변수 중 Null값이 있는지 여부. 단, 이 데이터는 기존 데이터에서 일부 변수들이 생략된 축소판이기 때문에, 여기서 보이는 Null값 여부와 다소 차이가 있을 수 있음.\n",
        "    - 전반적으로 무응답 항목이 있는지에 대한 정보이므로 그대로 사용\n",
        "* age / age_o : age는 본인 나이이며 age_o는 상대방 나이.\n",
        "* race / race_o : 마찬가지로 본인과 상대의 인종 정보.\n",
        "* importance_same_race / importance_same_religion\n",
        "    * 인종과 종교를 중요시 여기는지에 대한 응답\n",
        "* attractive(매력적인), sincere(성실한), intelligence(지적), funny(재미난), ambitious(야심찬), shared_ interests(공통관심사) : 이 항목들은 4가지 관점에서 평가되어 총 변수가 24(6 × 4)개\n",
        "    * pref_o_xxx( 예 : pref_o_attractive) : 상대방이 xxx 항목을 얼마나 중요하게 생각하는가에 대한 응답\n",
        "    * xxx_o(예: attractive_o) : 상대방이 본인에 대한 xxx 항목을 평가한 항목\n",
        "    * xxx_important(예 : attractive_important) : xxx 항목에 대해 본인이 얼마나 중요하게 생각하는가에 대한 응답\n",
        "    * xxx_partner(예 : attractive_partner) : 본인이 상대방에 대한 xxx 항목을 평가한 항목\n",
        "* interests_correlate : 관심사(취미 등) 연관도\n",
        "* expected_happy_with_sd_people : 스피드 데이팅을 통해 만난 사람과 함께할 때 얼마나 좋을\n",
        "지에 대한 기대치\n",
        "* expected_num_interested_in_me : 얼마나 많은 사람이 나에게 관심을 보일지에 대한 기대치\n",
        "* like : 파트너가 마음에 들었는지 여부\n",
        "* guess_prob_liked : 파트너가 나를 마음에 들어했을지에 대한 예상\n",
        "* met: 파트너를 스피드 데이팅 이벤트 이전에 만난 적이 있는지 여부"
      ],
      "metadata": {
        "id": "ArfP0tiaDtCS"
      }
    },
    {
      "cell_type": "code",
      "source": [
        "pd.options.display.float_format = '{:.2f}'.format"
      ],
      "metadata": {
        "id": "m99QLjYoAFFs"
      },
      "execution_count": null,
      "outputs": []
    },
    {
      "cell_type": "code",
      "source": [
        "df.describe()"
      ],
      "metadata": {
        "id": "omyumEYUDiFm"
      },
      "execution_count": null,
      "outputs": []
    },
    {
      "cell_type": "markdown",
      "source": [
        "# 전처리"
      ],
      "metadata": {
        "id": "LQJREohrFbSJ"
      }
    },
    {
      "cell_type": "markdown",
      "source": [
        "## 결측치"
      ],
      "metadata": {
        "id": "sXUeePsSEYDF"
      }
    },
    {
      "cell_type": "code",
      "source": [
        "# df.isna().mean()\n",
        "df.isna().mean().sort_values(ascending = False) "
      ],
      "metadata": {
        "id": "62dqmc6VDiJL"
      },
      "execution_count": null,
      "outputs": []
    },
    {
      "cell_type": "code",
      "source": [
        "df = df.dropna(\n",
        "    subset=['pref_o_attractive', 'pref_o_sincere', 'pref_o_intelligence',\n",
        "            'pref_o_funny', 'pref_o_ambitious', 'pref_o_shared_interests',\n",
        "            'attractive_important', 'sincere_important', 'intellicence_important',\n",
        "            'funny_important', 'ambtition_important', 'shared_interests_important'])\n",
        "# 일부 변수에서 결측치 제거"
      ],
      "metadata": {
        "id": "DWpqtYxpDiNV"
      },
      "execution_count": null,
      "outputs": []
    },
    {
      "cell_type": "code",
      "source": [
        "df.fillna(-99, inplace = True) "
      ],
      "metadata": {
        "id": "8QS2P7pbDiRM"
      },
      "execution_count": null,
      "outputs": []
    },
    {
      "cell_type": "code",
      "source": [
        "df.isna().mean().sort_values(ascending=False)"
      ],
      "metadata": {
        "id": "g4fE8b6FDiTo"
      },
      "execution_count": null,
      "outputs": []
    },
    {
      "cell_type": "markdown",
      "source": [
        "### 피처 엔지니어링\n",
        "\n",
        "- 피처(Feature) == 독립변수들...  / 엔지니어링 -> 가공해서 더 유의미하게 쓰겠다\n",
        "\n",
        "- 나이? 중요도? -> 계산 -> 합쳐주거나, 새로운 변수화"
      ],
      "metadata": {
        "id": "diEmT17CFeF9"
      }
    },
    {
      "cell_type": "markdown",
      "source": [
        "### 나이"
      ],
      "metadata": {
        "id": "H8HIkgAAGT4A"
      }
    },
    {
      "cell_type": "code",
      "source": [
        "# apply(axis = 1) \n",
        "# df.age = 본인 나이, df.age_o = 상대방 나이 \n",
        "def age_gap(x): # 행 전체\n",
        "    if x['age'] == -99:  # 내 나이가 결측치면\n",
        "        return -99       # 나이 차이도 결측치 \n",
        "    if x['age_o'] == -99:   # 상대방 나이도 결측치면 \n",
        "        return -99\n",
        "    if x['gender'] == 'female':\n",
        "        return x['age_o'] - x['age']  # 상대방 나이가 얼마나 더 많은지 (여성) \n",
        "    if x['gender'] == 'male':\n",
        "        return x['age'] - x['age_o']   # 내가 상대방보다 나이가 얼마나 많은지 (남성) \n"
      ],
      "metadata": {
        "id": "Yvf8kqdeDiWq"
      },
      "execution_count": null,
      "outputs": []
    },
    {
      "cell_type": "code",
      "source": [
        "# 나이차이 + 성별간의 차이 \n",
        "df['age_gap'] = df.apply(age_gap, axis=1)\n",
        "df.age_gap.head()"
      ],
      "metadata": {
        "id": "gnEwfeBIDiZ2"
      },
      "execution_count": null,
      "outputs": []
    },
    {
      "cell_type": "code",
      "source": [
        "# df['age_gap'].plot()"
      ],
      "metadata": {
        "id": "Ik7yS8paAFIg"
      },
      "execution_count": null,
      "outputs": []
    },
    {
      "cell_type": "code",
      "source": [
        "# 나이 차이만 (절대값) \n",
        "df['age_gap_abs'] = abs(df.age_gap)\n",
        "df.age_gap_abs.unique()"
      ],
      "metadata": {
        "id": "cPceB5YjAFLZ"
      },
      "execution_count": null,
      "outputs": []
    },
    {
      "cell_type": "code",
      "source": [
        "df.race.unique()\n",
        "df.race_o.unique()"
      ],
      "metadata": {
        "id": "JbHZjOQTK4Rz"
      },
      "execution_count": null,
      "outputs": []
    },
    {
      "cell_type": "code",
      "source": [
        "# df.race, df.race_o \n",
        "def same_race(x):\n",
        "    if x['race'] == -99: return -99 \n",
        "    if x.race_o == -99: return -99 \n",
        "    if x.race == x.race_o: return 1\n",
        "    return -1 "
      ],
      "metadata": {
        "id": "1FqCcKt4Iekk"
      },
      "execution_count": null,
      "outputs": []
    },
    {
      "cell_type": "code",
      "source": [
        "df['same_race'] = df.apply(same_race, axis = 1) \n",
        "df.same_race.unique() "
      ],
      "metadata": {
        "id": "MaIgOnP1IepE"
      },
      "execution_count": null,
      "outputs": []
    },
    {
      "cell_type": "code",
      "source": [
        "df.importance_same_race.value_counts() "
      ],
      "metadata": {
        "id": "3xhslMJoMFL1"
      },
      "execution_count": null,
      "outputs": []
    },
    {
      "cell_type": "code",
      "source": [
        "def same_point(x):  # apply(axis = 1) \n",
        "    if x['same_race'] == -99:             # 결측치면\n",
        "        return -99                        # 결측치로 두고\n",
        "    # 1, -1 \n",
        "    return x['same_race'] * x['importance_same_race'] "
      ],
      "metadata": {
        "id": "OmgWwa5WIeuk"
      },
      "execution_count": null,
      "outputs": []
    },
    {
      "cell_type": "code",
      "source": [
        "df['same_race_point'] = df.apply(same_point, axis = 1) \n",
        "# df.same_race_point.head()\n",
        "df.same_race_point.value_counts() "
      ],
      "metadata": {
        "id": "RaKbIlzrIeyC"
      },
      "execution_count": null,
      "outputs": []
    },
    {
      "cell_type": "code",
      "source": [
        "df[['race','race_o', 'same_race','importance_same_race','same_race_point']]"
      ],
      "metadata": {
        "id": "wDsGBTzaIe1N"
      },
      "execution_count": null,
      "outputs": []
    },
    {
      "cell_type": "code",
      "source": [
        "# 중요도 * 점수 => 파생변수(함수) \n",
        "# importance(중요하게 여기는 대상), score(그 대상에 얼마나 점수를 주는지) -> 컬럼 이름 \n",
        "# data = 행 (row) \n",
        "def rating(data, importance, score):         # 점수를 부여하는 함수\n",
        "    if data[importance] == -99: return -99   # 결측치\n",
        "    if data[score] == -99: return -99      # 결측치\n",
        "    return data[importance] * data[score]    # 중요한 것 * 그것에 대한 점수"
      ],
      "metadata": {
        "id": "Kxm-7q-hIe5Z"
      },
      "execution_count": null,
      "outputs": []
    },
    {
      "cell_type": "code",
      "source": [
        "df.columns"
      ],
      "metadata": {
        "id": "gZ9uhQ5uIe9f"
      },
      "execution_count": null,
      "outputs": []
    },
    {
      "cell_type": "code",
      "source": [
        "df.columns[8:14]   # 상대방의 나에 대한 선호도 (8 ~ 13) "
      ],
      "metadata": {
        "id": "dOv0HwKwR5uy"
      },
      "execution_count": null,
      "outputs": []
    },
    {
      "cell_type": "code",
      "source": [
        "df.columns[14:20]    # 본인에 대한 상대방의 평가 (14  ~19)  - 상대방이 이 분류에 대해 나를 어떻게 생각하는지 "
      ],
      "metadata": {
        "id": "wUhJrZ_DR5yG"
      },
      "execution_count": null,
      "outputs": []
    },
    {
      "cell_type": "code",
      "source": [
        "df.columns[20:26]   # 나(본인)의 중요도 - 그 특성에 대한 "
      ],
      "metadata": {
        "id": "o5cZxts5R51c"
      },
      "execution_count": null,
      "outputs": []
    },
    {
      "cell_type": "code",
      "source": [
        "df.columns[26:32]   # 상대방에 대한 본인의 평가 "
      ],
      "metadata": {
        "id": "mtL593UMR54I"
      },
      "execution_count": null,
      "outputs": []
    },
    {
      "cell_type": "code",
      "source": [
        "print(f'상대방의 선호도 : {df.columns[8:14]}')\n",
        "print(f'본인에 대한 상대방의 평가 : {df.columns[14:20]}')\n",
        "print(f'본인의 선호도 : {df.columns[20:26]}')\n",
        "print(f'상대방에 대한 본인의 평가 : {df.columns[25:32]}')"
      ],
      "metadata": {
        "id": "tO76dkYfR576"
      },
      "execution_count": null,
      "outputs": []
    },
    {
      "cell_type": "code",
      "source": [
        "partner_imp = df.columns[8:14]\n",
        "partner_rate_me = df.columns[14:20]\n",
        "my_imp = df.columns[20:26]\n",
        "my_rate_partner = df.columns[25:32]"
      ],
      "metadata": {
        "id": "y25BUaEWR5-t"
      },
      "execution_count": null,
      "outputs": []
    },
    {
      "cell_type": "code",
      "source": [
        "new_label_partner = ['attrative_p', 'sinsere_partner_p', 'intelligence_p',\n",
        "                     'funny_p', 'ambition_p','shared_interests_p']\n",
        "new_label_me = ['attrative_m', 'sinsere_partner_m', 'intelligence_m',\n",
        "                     'funny_m', 'ambition_m','shared_interests_m']                "
      ],
      "metadata": {
        "id": "7Ymq5ao-R6CP"
      },
      "execution_count": null,
      "outputs": []
    },
    {
      "cell_type": "code",
      "source": [
        "# 평가점수 * 중요도 => 새로운 라벨 \n",
        "for i, j, k in zip(new_label_partner, partner_imp, partner_rate_me,):\n",
        "    print(f'{i} & {j} & {k}')"
      ],
      "metadata": {
        "id": "mbZBOLBfUMr9"
      },
      "execution_count": null,
      "outputs": []
    },
    {
      "cell_type": "code",
      "source": [
        "# 파트너가 나에게 느끼는 점수 / 상대방의 선호도 / 나에 대한 파트너의 평가 \n",
        "for i, j, k in zip(new_label_partner, partner_imp, partner_rate_me):\n",
        "    # i => new_abel_partner (새로운 컬럼 이름) -> df[i]\n",
        "    # j => 상대방의 특정 영역에 대한 선호도(importance) \n",
        "    # k => 나에 대한 파트너 평가 (score) \n",
        "    df[i] = df.apply(lambda x: rating(x, j, k), axis = 1)"
      ],
      "metadata": {
        "id": "ZbT16h1fUMvT"
      },
      "execution_count": null,
      "outputs": []
    },
    {
      "cell_type": "code",
      "source": [
        "df.columns"
      ],
      "metadata": {
        "id": "7eHmiTsIUMzc"
      },
      "execution_count": null,
      "outputs": []
    },
    {
      "cell_type": "code",
      "source": [
        "# 파트너가 나에게 느끼는 점수 / 상대방의 선호도 / 나에 대한 파트너의 평가 \n",
        "for i, j, k in zip(new_label_me, my_imp, my_rate_partner):\n",
        "    # i => new_label_me (새로운 컬럼 이름) -> df[i]\n",
        "    # j => 나의 상대방 특정 영역에 대한 선호도(importance) \n",
        "    # k => 상대방에 대한 나의 평가 (score) \n",
        "    df[i] = df.apply(lambda x: rating(x, j, k), axis = 1)"
      ],
      "metadata": {
        "id": "Nr9uQ6upUM13"
      },
      "execution_count": null,
      "outputs": []
    },
    {
      "cell_type": "code",
      "source": [
        "df.columns"
      ],
      "metadata": {
        "id": "9BTaVFGHUM4L"
      },
      "execution_count": null,
      "outputs": []
    },
    {
      "cell_type": "markdown",
      "source": [
        "### 범주형 변수 변환"
      ],
      "metadata": {
        "id": "2rmEDIIfXUhh"
      }
    },
    {
      "cell_type": "code",
      "source": [
        "df.info()"
      ],
      "metadata": {
        "id": "2ysYK1qeUM7Y"
      },
      "execution_count": null,
      "outputs": []
    },
    {
      "cell_type": "code",
      "source": [
        "df.describe(include=['O']) "
      ],
      "metadata": {
        "id": "cAqTSzYPUM_M"
      },
      "execution_count": null,
      "outputs": []
    },
    {
      "cell_type": "code",
      "source": [
        "df = pd.get_dummies(df, columns = ['gender','race','race_o'], drop_first = True)"
      ],
      "metadata": {
        "id": "HO-4lXUvXncZ"
      },
      "execution_count": null,
      "outputs": []
    },
    {
      "cell_type": "code",
      "source": [
        "df.info()"
      ],
      "metadata": {
        "id": "BftzK0AfXnf0"
      },
      "execution_count": null,
      "outputs": []
    },
    {
      "cell_type": "markdown",
      "source": [
        "## 모델링 및 평가"
      ],
      "metadata": {
        "id": "VzNAGar0YXA_"
      }
    },
    {
      "cell_type": "code",
      "source": [
        "#@title 훈련셋 / 시험셋\n",
        "from sklearn.model_selection import train_test_split \n",
        "\n",
        "X = df.drop('match', axis = 1) \n",
        "y = df.match \n",
        "X_train, X_test, y_train, y_test = train_test_split(X, y, test_size = 0.2, random_state = 100) "
      ],
      "metadata": {
        "id": "49Sk6b1FXni9"
      },
      "execution_count": null,
      "outputs": []
    },
    {
      "cell_type": "markdown",
      "source": [
        "### 모델링"
      ],
      "metadata": {
        "id": "-nzswILjYx4j"
      }
    },
    {
      "cell_type": "code",
      "source": [
        "import xgboost as xgb"
      ],
      "metadata": {
        "id": "85BUCFh-Xnl9"
      },
      "execution_count": null,
      "outputs": []
    },
    {
      "cell_type": "code",
      "source": [
        "# 모델 객체\n",
        "model = xgb.XGBClassifier(n_estimators = 500, max_depth = 5, random_state = 100) "
      ],
      "metadata": {
        "id": "Y6o0VgnSXnoo"
      },
      "execution_count": null,
      "outputs": []
    },
    {
      "cell_type": "code",
      "source": [
        "model.fit(X_train, y_train) "
      ],
      "metadata": {
        "id": "oO-GJY_sY7zy"
      },
      "execution_count": null,
      "outputs": []
    },
    {
      "cell_type": "code",
      "source": [
        "pred = model.predict(X_test)"
      ],
      "metadata": {
        "id": "8j-Wuax0Y73M"
      },
      "execution_count": null,
      "outputs": []
    },
    {
      "cell_type": "code",
      "source": [
        "from sklearn.metrics import accuracy_score, confusion_matrix, classification_report"
      ],
      "metadata": {
        "id": "T04gSJxTY763"
      },
      "execution_count": null,
      "outputs": []
    },
    {
      "cell_type": "code",
      "source": [
        "# 매칭 여부\n",
        "# df.match.mean()\n",
        "1 - df.match.mean()"
      ],
      "metadata": {
        "id": "sStZfQsyuObe"
      },
      "execution_count": null,
      "outputs": []
    },
    {
      "cell_type": "code",
      "source": [
        "accuracy_score(y_test, pred) "
      ],
      "metadata": {
        "id": "ZCUozPciY79t"
      },
      "execution_count": null,
      "outputs": []
    },
    {
      "cell_type": "code",
      "source": [
        "# 오른쪽 위 : 1종 오류 - 실제 틀린데 (0) 맞다고 예측 (1) - 68\n",
        "# 왼쪽 아래 : 2종 오류 - 실제 맞는데 (1) 틀리다고 예측 (0) - 147\n",
        "print(confusion_matrix(y_test, pred))\n",
        "cf_matrix = confusion_matrix(y_test,pred)\n",
        "cf_matrix\n",
        "group_names = ['TN','FP','FN','TP']\n",
        "group_counts = [\"{0:0.0f}\".format(value) for value in\n",
        "                cf_matrix.flatten()]\n",
        "group_percentages = [\"{0:.2%}\".format(value) for value in\n",
        "                     cf_matrix.flatten()/np.sum(cf_matrix)]\n",
        "labels = [f\"{v1}\\n{v2}\\n{v3}\" for v1, v2, v3 in\n",
        "          zip(group_names,group_counts,group_percentages)]\n",
        "labels = np.asarray(labels).reshape(2,2)\n",
        "sns.heatmap(cf_matrix, annot=labels, fmt='', cmap='coolwarm')\n",
        "plt.ylabel('True')\n",
        "plt.xlabel('Predicted')\n",
        "plt.show()\n",
        "# TP(양성을 양성으로 판단)\n",
        "# FN(양성을 음성으로 판단) -> 2종 오류 (맞는데 틀리다고)\n",
        "# FP(음성을 양성으로 판단) -> 1종 오류 (틀린데 맞다고)\n",
        "# TN(음성을 음성으로 판단) "
      ],
      "metadata": {
        "id": "TOxD6yFqZq4i"
      },
      "execution_count": null,
      "outputs": []
    },
    {
      "cell_type": "code",
      "source": [
        "#@title classification_report()\n",
        "# - 종속변수의 값인 0과 1 각각에 대하여 나타남\n",
        "# - 예측하려는 경우(1)에 대한 값을 주로 해석하면 됨\n",
        "print(classification_report(y_test, pred))\n",
        "# precision : 정밀도\n",
        "# recall : 재현율\n",
        "# f1-score : F1-점수\n",
        "# support : 인덱스"
      ],
      "metadata": {
        "id": "QeOMj4r0Zq7v"
      },
      "execution_count": null,
      "outputs": []
    },
    {
      "cell_type": "markdown",
      "source": [
        "#### 정밀도(precision)\n",
        "* 1로 예측한 경우 중, 얼마만큼이 실제로 1인지를 나타냄<br>\n",
        "$TP\\over(TP+FP)$\n",
        "=\n",
        "$\\frac{양성을 양성으로 판단}{양성을 양성으로 판단 + 1종 오류}$\n",
        "=\n",
        "$\\frac{양성을 양성으로 판단}{양성으로 판단한 수}$\n",
        "> FP가 커질수록 분모가 커지기 때문에 정밀도는 낮아짐 (1종 오류와 관련)"
      ],
      "metadata": {
        "id": "YHew2Gk340A2"
      }
    },
    {
      "cell_type": "markdown",
      "source": [
        "#### 재현율(recall)\n",
        "* 실제로 1 중에, 얼마만큼을 1로 예측했는지 나타냄<br>\n",
        "$TP\\over(TP+FN)$\n",
        "=\n",
        "$\\frac{양성을 양성으로 판단}{양성을 양성으로 판단 + 2종 오류}$\n",
        "=\n",
        "$\\frac{양성을 양성으로 판단}{실제로 양성인 수}$\n",
        "> FN가 커질수록 분모가 커지기 때문에 재현율은 낮아짐 (2종 오류와 관련)"
      ],
      "metadata": {
        "id": "He3bzp7i4z2-"
      }
    },
    {
      "cell_type": "markdown",
      "source": [
        "#### F-1점수(f-score)\n",
        "* 정밀도와 재현율의 조화평균<br>\n",
        "* 조화평균 : 주어진 수들의 역수의 산술평균의 역수\n",
        "    * 예) $H = \\frac{2a_1a_2}{a_1 + a_2}$\n",
        "\n",
        "$2 \\times \\frac{precision \\times recall}{precesion + recall}$\n",
        "=\n",
        "$2 \\times \\frac{정밀도 \\times 재현율}{정밀도 + 재현율}$\n",
        "\n",
        "> 1종 오류가 중요하면 정밀도, 2종 오류가 중요하면 재현율<br>\n",
        "> 딱히 중요한 것 없으면 F1-점수"
      ],
      "metadata": {
        "id": "IMaKCNhK47nW"
      }
    },
    {
      "cell_type": "markdown",
      "source": [],
      "metadata": {
        "id": "9icnE0D34zo6"
      }
    },
    {
      "cell_type": "markdown",
      "source": [
        "## 하이퍼파라미터 튜닝"
      ],
      "metadata": {
        "id": "Dg1tyHMTv8y6"
      }
    },
    {
      "cell_type": "markdown",
      "source": [
        "### 경사하강법\n",
        "* 머신 러닝이 학습시킬 때 최소의 오차를 찾는 방법\n",
        "* 오차 함수에 대한 경사도(미분계수)를 기준으로 매개변수를 반복적으로 이동해가며 최소 오차를 찾음\n",
        "* 매개변수? : 선형 회귀에서의 계수(변수에 대한 기울기 값)에 해당\n",
        "\n",
        "**경사하강법과 보폭**\n",
        "* 경사부스팅의 핵심개념 중 하나로, 모델이 어떻게 최소 오차가 되는 매개변수들을 학습하는지에 대한 방법\n",
        "* 오차식에 대한 미분계수를 통해 매개 변수의 이동 방향과 보폭을 결정합니다\n",
        "* 보폭은 매개변수를 얼만큼씩 이동할지를 의미\n",
        "\n",
        "**미분계수**\n",
        "* 평균변화율에서 x의 증가량을 0으로 가깝게 할 때의 평균변화율\n",
        "* 그래프 상에서 접선의 기울기, 계수"
      ],
      "metadata": {
        "id": "B6-lFyOK5B7S"
      }
    },
    {
      "cell_type": "markdown",
      "source": [
        "### Gridsearch(그리드서치) "
      ],
      "metadata": {
        "id": "ObK7t2YAwDJe"
      }
    },
    {
      "cell_type": "markdown",
      "source": [
        "* learning_rate\n",
        "    * 경사하강법에서 ‘매개변수’를 얼만큼씩 이동해가면서 최소 오차를 찾을지, 그 보폭의 크기를 결정하는 하이퍼파라미터.\n",
        "    * 기본적으로 보폭은 미분계수에 의해 결정되지만, learning_rate를 크게 하면 더 큰 보폭을, 작게 하면 그만큼 작은 보폭으로 움직임.\n",
        "    * learning rate를 우리말로 학습률이라고 함\n",
        "    * 학습률과 보폭 : 학습률은 입력, 보폭은 그 결과. 큰 학습률을 사용하면 결과적으로 보폭도 커짐\n",
        "    * 너무 작은 학습률 -> 상당한 시간이 들고, 오버피팅 문제 일어남\n",
        "    * 너무 큰 학습률 -> 학습이 제대로 안 됨\n",
        "    * 적절한 크기의 학습률을 사용해야만 큰 시간을 들이지 않고 최소 오차 지점을 찾을 수 있음\n",
        "• max_depth : 각 트리의 깊이를 제한\n",
        "• subsample : 모델을 학습시킬 때 일부 데이터만 사용하여 각 트리를 만듦. 0.5를 쓰면 데\n",
        "이터의 절반씩만 랜덤 추출하여 트리를 만듦. 이 또한 오버피팅을 방지하는 데 도움이 됨\n",
        "• n_estimators : 전체 나무의 개수."
      ],
      "metadata": {
        "id": "MqasIKcH5GjF"
      }
    },
    {
      "cell_type": "code",
      "source": [
        "parameter = {\n",
        "    'learning_rate': [0.01, 0.1, 0.3], # 경사하강법 : '매개변수' -> 최소오차 -> 보폭 크기\n",
        "    'max_depth': [5, 7, 10], # 트리의 깊이 (오버피팅)\n",
        "    'subsample': [0.5, 0.7, 1], # 추출할 데이터 비율\n",
        "    'n_estimators': [300, 500, 1000] # 트리 개수\n",
        "}"
      ],
      "metadata": {
        "id": "udq9jI2eZq_O"
      },
      "execution_count": null,
      "outputs": []
    },
    {
      "cell_type": "code",
      "source": [
        "from sklearn.model_selection import GridSearchCV"
      ],
      "metadata": {
        "id": "uD6GiQ6YwA4I"
      },
      "execution_count": null,
      "outputs": []
    },
    {
      "cell_type": "code",
      "source": [
        "model = xgb.XGBClassifier()"
      ],
      "metadata": {
        "id": "Eg7DaZxKwA78"
      },
      "execution_count": null,
      "outputs": []
    },
    {
      "cell_type": "code",
      "source": [
        "gs_model = GridSearchCV(model, parameter, n_jobs=-1, scoring='f1', cv = 5)"
      ],
      "metadata": {
        "id": "Ut2ltxadwA_i"
      },
      "execution_count": null,
      "outputs": []
    },
    {
      "cell_type": "code",
      "source": [
        "gs_model.fit(X_train, y_train)"
      ],
      "metadata": {
        "id": "kUA2fwCFwBCA"
      },
      "execution_count": null,
      "outputs": []
    },
    {
      "cell_type": "code",
      "source": [
        "!pip install mlxtend --quiet\n",
        "\n",
        "import joblib\n",
        "joblib.dump(gs_model, 'gs_model.pkl')"
      ],
      "metadata": {
        "id": "pNxHB5yK5e3Z"
      },
      "execution_count": null,
      "outputs": []
    },
    {
      "cell_type": "code",
      "source": [
        "gs_model.best_params_"
      ],
      "metadata": {
        "id": "_NTx-d72wBFH"
      },
      "execution_count": null,
      "outputs": []
    },
    {
      "cell_type": "code",
      "source": [
        "pred = gs_model.predict(X_test)"
      ],
      "metadata": {
        "id": "qb36IrWG5jA9"
      },
      "execution_count": null,
      "outputs": []
    },
    {
      "cell_type": "code",
      "source": [
        "print(f\"accuracy_score : {accuracy_score(y_test, pred)}\")\n",
        "print(classification_report(y_test, pred))"
      ],
      "metadata": {
        "id": "gCUiCy-55lBZ"
      },
      "execution_count": null,
      "outputs": []
    },
    {
      "cell_type": "markdown",
      "source": [
        "## 변수의 영향력 -> 중요 변수 확인"
      ],
      "metadata": {
        "id": "IGY_s1vk7jBL"
      }
    },
    {
      "cell_type": "code",
      "source": [
        "model = xgb.XGBClassifier(learning_rate=0.1, max_depth=5, \n",
        "                          n_estimators= 500, subsample=1, random_state=100)\n",
        "model.fit(X_train, y_train)"
      ],
      "metadata": {
        "id": "lFpnofMqwBH8"
      },
      "execution_count": null,
      "outputs": []
    },
    {
      "cell_type": "code",
      "source": [
        "# 중요한 변수\n",
        "model.feature_importances_"
      ],
      "metadata": {
        "id": "3fPzymOOXnrl"
      },
      "execution_count": null,
      "outputs": []
    },
    {
      "cell_type": "code",
      "source": [
        "feature_imp = pd.DataFrame({'features': X_train.columns, 'values': model.feature_importances_})"
      ],
      "metadata": {
        "id": "rewMquIx5t6d"
      },
      "execution_count": null,
      "outputs": []
    },
    {
      "cell_type": "code",
      "source": [
        "pd.options.display.float_format = '{:.6f}'.format\n",
        "feature_imp.head()"
      ],
      "metadata": {
        "id": "k6VSZpKKXnui"
      },
      "execution_count": null,
      "outputs": []
    },
    {
      "cell_type": "code",
      "source": [
        "feature_imp.sort_values(by='values', ascending=False)"
      ],
      "metadata": {
        "id": "BtDuD7sr8bCy"
      },
      "execution_count": null,
      "outputs": []
    },
    {
      "cell_type": "code",
      "source": [
        "plt.figure(figsize=(100, 200))\n",
        "feature_imp.sort_values(by='values', ascending=True).plot(kind='bar')"
      ],
      "metadata": {
        "id": "ZerRvQyp8jbh"
      },
      "execution_count": null,
      "outputs": []
    },
    {
      "cell_type": "code",
      "source": [
        "plt.figure(figsize=(20, 10))\n",
        "sns.barplot(x='values', y='features',\n",
        "            data=feature_imp.sort_values(by='values', ascending=False).head(10))"
      ],
      "metadata": {
        "id": "MrBERY-J8jfS"
      },
      "execution_count": null,
      "outputs": []
    },
    {
      "cell_type": "code",
      "source": [],
      "metadata": {
        "id": "hVPGwDcl8jjX"
      },
      "execution_count": null,
      "outputs": []
    },
    {
      "cell_type": "code",
      "source": [],
      "metadata": {
        "id": "T7erftbc8jnO"
      },
      "execution_count": null,
      "outputs": []
    },
    {
      "cell_type": "code",
      "source": [],
      "metadata": {
        "id": "8CxrzNLq8jsM"
      },
      "execution_count": null,
      "outputs": []
    }
  ]
}