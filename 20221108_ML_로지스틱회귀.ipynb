{
  "nbformat": 4,
  "nbformat_minor": 0,
  "metadata": {
    "colab": {
      "private_outputs": true,
      "provenance": [],
      "authorship_tag": "ABX9TyNOn0+9pVxppDAhKFtRlxpO",
      "include_colab_link": true
    },
    "kernelspec": {
      "name": "python3",
      "display_name": "Python 3"
    },
    "language_info": {
      "name": "python"
    }
  },
  "cells": [
    {
      "cell_type": "markdown",
      "metadata": {
        "id": "view-in-github",
        "colab_type": "text"
      },
      "source": [
        "<a href=\"https://colab.research.google.com/github/lookinsight/ml/blob/main/20221108_ML_%EB%A1%9C%EC%A7%80%EC%8A%A4%ED%8B%B1%ED%9A%8C%EA%B7%80.ipynb\" target=\"_parent\"><img src=\"https://colab.research.google.com/assets/colab-badge.svg\" alt=\"Open In Colab\"/></a>"
      ]
    },
    {
      "cell_type": "markdown",
      "source": [
        "# 🚢 로지스틱회귀: 타이타닉 생존자 예측하기"
      ],
      "metadata": {
        "id": "II03ld09qf7t"
      }
    },
    {
      "cell_type": "code",
      "execution_count": null,
      "metadata": {
        "id": "InPF4NEHekAz"
      },
      "outputs": [],
      "source": [
        "import pandas as pd \n",
        "pd.options.display.float_format = '{:.2f}'.format"
      ]
    },
    {
      "cell_type": "code",
      "source": [
        "# kaggle \n",
        "# https://www.kaggle.com/competitions/titanic\n",
        "file_url = \"https://raw.githubusercontent.com/bigdata-young/bigdata_16th/main/data/titanic_train.csv\"\n",
        "df_train = pd.read_csv(file_url)"
      ],
      "metadata": {
        "id": "E_pkJFmPjt0j"
      },
      "execution_count": null,
      "outputs": []
    },
    {
      "cell_type": "code",
      "source": [
        "df_train.head()"
      ],
      "metadata": {
        "id": "IOPIMx2_jt4y"
      },
      "execution_count": null,
      "outputs": []
    },
    {
      "cell_type": "code",
      "source": [
        "df_train = pd.read_csv(file_url, index_col = 0) "
      ],
      "metadata": {
        "id": "Bzs_Vqxgjt84"
      },
      "execution_count": null,
      "outputs": []
    },
    {
      "cell_type": "code",
      "source": [
        "df_train.head()"
      ],
      "metadata": {
        "id": "1RG_n4n-juA0"
      },
      "execution_count": null,
      "outputs": []
    },
    {
      "cell_type": "code",
      "source": [
        "df_train.info()"
      ],
      "metadata": {
        "id": "KhnDXp0IjuEf"
      },
      "execution_count": null,
      "outputs": []
    },
    {
      "cell_type": "code",
      "source": [
        "df_train.describe()"
      ],
      "metadata": {
        "id": "0-knvyBajuQ5"
      },
      "execution_count": null,
      "outputs": []
    },
    {
      "cell_type": "code",
      "source": [
        "df_train.describe(include = [\"O\"]) # 범주형 컬럼들 확인"
      ],
      "metadata": {
        "id": "zracac3djuUE"
      },
      "execution_count": null,
      "outputs": []
    },
    {
      "cell_type": "code",
      "source": [
        "df_train.Embarked.unique()"
      ],
      "metadata": {
        "id": "LNbKktBQjuXa"
      },
      "execution_count": null,
      "outputs": []
    },
    {
      "cell_type": "code",
      "source": [
        "# 상관관계\n",
        "df_train.corr()\n",
        "# 0.2 ... "
      ],
      "metadata": {
        "id": "0Di8UXrVjuam"
      },
      "execution_count": null,
      "outputs": []
    },
    {
      "cell_type": "code",
      "source": [
        "import matplotlib.pyplot as plt \n",
        "import seaborn as sns "
      ],
      "metadata": {
        "id": "KuUW7SaFjueP"
      },
      "execution_count": null,
      "outputs": []
    },
    {
      "cell_type": "code",
      "source": [
        "sns.heatmap(df_train.corr()) "
      ],
      "metadata": {
        "id": "EgkFy8GU1ach"
      },
      "execution_count": null,
      "outputs": []
    },
    {
      "cell_type": "code",
      "source": [
        "sns.heatmap(df_train.corr(), cmap='coolwarm') "
      ],
      "metadata": {
        "id": "XWOtdh2i1afr"
      },
      "execution_count": null,
      "outputs": []
    },
    {
      "cell_type": "code",
      "source": [
        "sns.heatmap(df_train.corr(), cmap='coolwarm', vmin = -1, vmax = 1)"
      ],
      "metadata": {
        "id": "qQHX6feO1ajP"
      },
      "execution_count": null,
      "outputs": []
    },
    {
      "cell_type": "code",
      "source": [
        "sns.heatmap(df_train.corr(), cmap='coolwarm', vmin = -1, vmax = 1, annot = True) "
      ],
      "metadata": {
        "id": "JTGLAdgt1alo"
      },
      "execution_count": null,
      "outputs": []
    },
    {
      "cell_type": "markdown",
      "source": [
        "# 결측치 처리 "
      ],
      "metadata": {
        "id": "qmx3CDII3iqA"
      }
    },
    {
      "cell_type": "code",
      "source": [
        "df_train.info()"
      ],
      "metadata": {
        "id": "iceavilz1aog"
      },
      "execution_count": null,
      "outputs": []
    },
    {
      "cell_type": "code",
      "source": [
        "df_train.Embarked.value_counts()"
      ],
      "metadata": {
        "id": "hQwiwqOd1arq"
      },
      "execution_count": null,
      "outputs": []
    },
    {
      "cell_type": "code",
      "source": [
        "# df_train.Embarked.unique()\n",
        "df_train['Embarked'].unique()"
      ],
      "metadata": {
        "id": "2WWWJCKD1aut"
      },
      "execution_count": null,
      "outputs": []
    },
    {
      "cell_type": "code",
      "source": [
        "df_train['Embarked'].fillna('S').unique()"
      ],
      "metadata": {
        "id": "rtOj0STnjuge"
      },
      "execution_count": null,
      "outputs": []
    },
    {
      "cell_type": "code",
      "source": [
        "df_train.Embarked = df_train['Embarked'].fillna('S') \n",
        "# df_train['Embarked'].fillna('S', inplace = True) "
      ],
      "metadata": {
        "id": "_G9OJlb_jujw"
      },
      "execution_count": null,
      "outputs": []
    },
    {
      "cell_type": "code",
      "source": [
        "df_train.info()"
      ],
      "metadata": {
        "id": "MX7B_DBm47JV"
      },
      "execution_count": null,
      "outputs": []
    },
    {
      "cell_type": "code",
      "source": [
        "df_train.Cabin.unique()"
      ],
      "metadata": {
        "id": "uAo3s5Do47MN"
      },
      "execution_count": null,
      "outputs": []
    },
    {
      "cell_type": "code",
      "source": [
        "df_train.drop(columns = ['Cabin'], inplace = True) \n",
        "df_train "
      ],
      "metadata": {
        "id": "MsBTQ_WL47PN"
      },
      "execution_count": null,
      "outputs": []
    },
    {
      "cell_type": "code",
      "source": [
        "df_train.drop(columns = ['Ticket'], inplace = True) "
      ],
      "metadata": {
        "id": "fX9u42U447Uy"
      },
      "execution_count": null,
      "outputs": []
    },
    {
      "cell_type": "code",
      "source": [
        "df_train"
      ],
      "metadata": {
        "id": "rQCPJrjO47Y2"
      },
      "execution_count": null,
      "outputs": []
    },
    {
      "cell_type": "code",
      "source": [
        "df_train['Name'].dtype"
      ],
      "metadata": {
        "id": "5aMysQD571uZ"
      },
      "execution_count": null,
      "outputs": []
    },
    {
      "cell_type": "code",
      "source": [
        "# df_train['Title'] \n",
        "df_train.Name"
      ],
      "metadata": {
        "id": "P284Ylr2jumo"
      },
      "execution_count": null,
      "outputs": []
    },
    {
      "cell_type": "code",
      "source": [
        "df_train.Name.str.extract('([A-Za-z]+)\\.') # A-Z까지, a-z까지, +는 1개 이상, \\. 은 여러개"
      ],
      "metadata": {
        "id": "0ciZjLYt6p-o"
      },
      "execution_count": null,
      "outputs": []
    },
    {
      "cell_type": "code",
      "source": [
        "df_train['Title'] = df_train.Name.str.extract('([A-Za-z]+)\\.')"
      ],
      "metadata": {
        "id": "pvh4mwFo6qML"
      },
      "execution_count": null,
      "outputs": []
    },
    {
      "cell_type": "code",
      "source": [
        "df_train.Title.value_counts()"
      ],
      "metadata": {
        "id": "918DWaKI6qRK"
      },
      "execution_count": null,
      "outputs": []
    },
    {
      "cell_type": "code",
      "source": [
        "# set(df_train.Title )\n",
        "df_train.Title.unique()"
      ],
      "metadata": {
        "id": "ZD7vNmSk6qY6"
      },
      "execution_count": null,
      "outputs": []
    },
    {
      "cell_type": "code",
      "source": [
        "title_unique = df_train.Title.unique()"
      ],
      "metadata": {
        "id": "tAKCnTsC6qcb"
      },
      "execution_count": null,
      "outputs": []
    },
    {
      "cell_type": "code",
      "source": [
        "rarelist = []\n",
        "for t in title_unique:\n",
        "    df_tlist = list(df_train.Title).count(t)\n",
        "    print(df_tlist)\n",
        "    if df_tlist < 10:\n",
        "        rarelist.append(t)\n",
        "rarelist     # 리스트 컴프리헨션 & 삼항 연산자로 하는 법"
      ],
      "metadata": {
        "id": "iv-rMWzJ6qj3"
      },
      "execution_count": null,
      "outputs": []
    },
    {
      "cell_type": "code",
      "source": [
        "df_train.Title = df_train['Title'].replace(rarelist, \"Rare\")"
      ],
      "metadata": {
        "id": "9Flh_HuQjuqC"
      },
      "execution_count": null,
      "outputs": []
    },
    {
      "cell_type": "code",
      "source": [
        "df_train.Title.value_counts()"
      ],
      "metadata": {
        "id": "dL8Wp0RZ9qZj"
      },
      "execution_count": null,
      "outputs": []
    },
    {
      "cell_type": "code",
      "source": [
        "# df_train.groupby(['Title'])['Age'].mean()\n",
        "title_age_mean = df_train.groupby(['Title'])['Age'].mean()"
      ],
      "metadata": {
        "id": "uhh-m0889qcZ"
      },
      "execution_count": null,
      "outputs": []
    },
    {
      "cell_type": "code",
      "source": [
        "for t in df_train.Title.unique():\n",
        "    # df_train.loc[df_train['Age'].isnull() & (df_train.Title == 'Mr'), 'Age'] = title_age_mean['Mr'] \n",
        "    df_train.loc[df_train['Age'].isnull() & (df_train.Title == t), 'Age'] = title_age_mean[t]\n",
        "\n",
        "\n",
        "# 원하는 조건의 값만 변경하는 방법\n",
        "\n",
        "# df.loc[조건1 & 조건2, “column이름”] = “변경 값”"
      ],
      "metadata": {
        "id": "z5PTubc69qfe"
      },
      "execution_count": null,
      "outputs": []
    },
    {
      "cell_type": "code",
      "source": [
        "df_train.info()"
      ],
      "metadata": {
        "id": "vJbICUgv9qia"
      },
      "execution_count": null,
      "outputs": []
    },
    {
      "cell_type": "code",
      "source": [
        "df_train.drop(columns = ['Name', 'Title'], inplace = True) "
      ],
      "metadata": {
        "id": "BZiq5Tnj9qmE"
      },
      "execution_count": null,
      "outputs": []
    },
    {
      "cell_type": "code",
      "source": [
        "df_train.info()"
      ],
      "metadata": {
        "id": "mdJ6W-Jz9qqJ"
      },
      "execution_count": null,
      "outputs": []
    },
    {
      "cell_type": "code",
      "source": [
        "df_train2 = pd.get_dummies(df_train, columns = ['Sex', 'Embarked'], drop_first = True)"
      ],
      "metadata": {
        "id": "pwMt_WXJ9quP"
      },
      "execution_count": null,
      "outputs": []
    },
    {
      "cell_type": "code",
      "source": [
        "df_train2.info()"
      ],
      "metadata": {
        "id": "WYymmGgvAqwR"
      },
      "execution_count": null,
      "outputs": []
    },
    {
      "cell_type": "markdown",
      "source": [
        "#  모델링"
      ],
      "metadata": {
        "id": "17zL7IMOG2y2"
      }
    },
    {
      "cell_type": "code",
      "source": [
        "from sklearn.linear_model import LogisticRegression"
      ],
      "metadata": {
        "id": "5pd9tnGoAqzE"
      },
      "execution_count": null,
      "outputs": []
    },
    {
      "cell_type": "code",
      "source": [
        "model = LogisticRegression()"
      ],
      "metadata": {
        "id": "9dwjXjdlAq5E"
      },
      "execution_count": null,
      "outputs": []
    },
    {
      "cell_type": "code",
      "source": [
        "from sklearn.model_selection import train_test_split"
      ],
      "metadata": {
        "id": "8-4mialLAq75"
      },
      "execution_count": null,
      "outputs": []
    },
    {
      "cell_type": "code",
      "source": [
        "X, y = (df_train2.drop(columns = ['Survived']), df_train2.Survived) \n",
        "X_train, X_test, y_train, y_test = train_test_split(X, y, test_size = 0.2, random_state = 100) "
      ],
      "metadata": {
        "id": "MrdULl_uAq_B"
      },
      "execution_count": null,
      "outputs": []
    },
    {
      "cell_type": "code",
      "source": [
        "model.fit(X_train, y_train) "
      ],
      "metadata": {
        "id": "Ynq9e8V3ArBs"
      },
      "execution_count": null,
      "outputs": []
    },
    {
      "cell_type": "code",
      "source": [
        "pred = model.predict(X_test) "
      ],
      "metadata": {
        "id": "WyEdAUi2ArES"
      },
      "execution_count": null,
      "outputs": []
    },
    {
      "cell_type": "code",
      "source": [
        "#@title 모델 평가 (로지스틱 회귀 -> 분류문제) \n",
        "\n",
        "from sklearn.metrics import accuracy_score\n",
        "\n",
        "accuracy_score(y_test, pred) "
      ],
      "metadata": {
        "id": "MELzBJQlICTH"
      },
      "execution_count": null,
      "outputs": []
    },
    {
      "cell_type": "code",
      "source": [
        "model.coef_"
      ],
      "metadata": {
        "id": "s4sebmGyICWS"
      },
      "execution_count": null,
      "outputs": []
    },
    {
      "cell_type": "code",
      "source": [
        "pd.options.display.float_format = '{:.4f}'.format\n",
        "pd.Series(model.coef_[0], index = X.columns) "
      ],
      "metadata": {
        "id": "TW9auyHBICZO"
      },
      "execution_count": null,
      "outputs": []
    },
    {
      "cell_type": "code",
      "source": [
        "def pre_processing(df : pd.DataFrame):\n",
        "    df.Embarked = df.Embarked.fillna(\"S\") \n",
        "    df.Fare = df.Fare.fillna(0)\n",
        "    df['Title'] = df.Name.str.extract('([A-Za-z]+)\\.')\n",
        "    rarelist = [a for a in set(df['Title'])\n",
        "                if list(df['Title']).count(a) < 10]\n",
        "    df['Title'] = df['Title'].replace(rarelist, 'Rare') \n",
        "    title_age_mean = df.groupby(['Title'])['Age'].mean() \n",
        "    for v in df['Title'].unique():\n",
        "        df.loc[df.Age.isnull() & (df.Title == v), 'Age'] = title_age_mean[v]\n",
        "    df_clean = df.drop(columns=['Name', 'Ticket', 'Title', 'Cabin'])\n",
        "    return pd.get_dummies(df_clean,\n",
        "                          columns = ['Sex', 'Embarked'], drop_first=True)"
      ],
      "metadata": {
        "id": "dKabKzcwLbJU"
      },
      "execution_count": null,
      "outputs": []
    },
    {
      "cell_type": "markdown",
      "source": [
        "# Kaggle Competition 제출"
      ],
      "metadata": {
        "id": "UbjI4P3aLHg-"
      }
    },
    {
      "cell_type": "code",
      "source": [
        "# https://www.kaggle.com/competitions/titanic/data\n",
        "file_url = \"https://raw.githubusercontent.com/bigdata-young/bigdata_16th/main/data/titanic_test.csv\"\n",
        "# 맨 첫째줄 PassengerId를 index열로 지정\n",
        "# train = pd.read_csv(f'{file_url}/titanic_train.csv', index_col=0)\n",
        "submission = pd.read_csv(f'{file_url}', index_col=0)"
      ],
      "metadata": {
        "id": "Mdoow9R0N1Co"
      },
      "execution_count": null,
      "outputs": []
    },
    {
      "cell_type": "code",
      "source": [
        "submission_df = pre_processing(submission)\n",
        "submission_df"
      ],
      "metadata": {
        "id": "yjz_5XlfICcS"
      },
      "execution_count": null,
      "outputs": []
    },
    {
      "cell_type": "code",
      "source": [
        "submission.info()"
      ],
      "metadata": {
        "id": "9s4Rttk7ICe4"
      },
      "execution_count": null,
      "outputs": []
    },
    {
      "cell_type": "code",
      "source": [
        "df_sub = pre_processing(submission)\n",
        "df_sub"
      ],
      "metadata": {
        "id": "Nhhr0uhzICih"
      },
      "execution_count": null,
      "outputs": []
    },
    {
      "cell_type": "code",
      "source": [
        "pred_sub = model.predict(df_sub)\n",
        "pred_sub"
      ],
      "metadata": {
        "id": "x-IU2lPCjusl"
      },
      "execution_count": null,
      "outputs": []
    },
    {
      "cell_type": "code",
      "source": [
        "result = pd.DataFrame({'PassengerId':df_sub.index,'Survived':pred_sub})\n",
        "result"
      ],
      "metadata": {
        "id": "dubcxZPlQi0L"
      },
      "execution_count": null,
      "outputs": []
    },
    {
      "cell_type": "code",
      "source": [
        "# 인덱스 제외하고 저장\n",
        "result.to_csv('submission.csv', index = False)"
      ],
      "metadata": {
        "id": "Vj4pLp4LQi3j"
      },
      "execution_count": null,
      "outputs": []
    },
    {
      "cell_type": "code",
      "source": [],
      "metadata": {
        "id": "IA64XtDMQi6j"
      },
      "execution_count": null,
      "outputs": []
    }
  ]
}