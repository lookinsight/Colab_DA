{
  "nbformat": 4,
  "nbformat_minor": 0,
  "metadata": {
    "colab": {
      "private_outputs": true,
      "provenance": [],
      "toc_visible": true,
      "authorship_tag": "ABX9TyNRibCVNNb7DagKxTwmMbm1",
      "include_colab_link": true
    },
    "kernelspec": {
      "name": "python3",
      "display_name": "Python 3"
    },
    "language_info": {
      "name": "python"
    }
  },
  "cells": [
    {
      "cell_type": "markdown",
      "metadata": {
        "id": "view-in-github",
        "colab_type": "text"
      },
      "source": [
        "<a href=\"https://colab.research.google.com/github/lookinsight/ml/blob/main/20221116_ML_K%ED%8F%89%EA%B7%A0%EA%B5%B0%EC%A7%91%ED%99%94_%EC%8B%A4%EC%8A%B5.ipynb\" target=\"_parent\"><img src=\"https://colab.research.google.com/assets/colab-badge.svg\" alt=\"Open In Colab\"/></a>"
      ]
    },
    {
      "cell_type": "code",
      "execution_count": null,
      "metadata": {
        "id": "BYC2ZNxWCPyr"
      },
      "outputs": [],
      "source": [
        "import pandas as pd\n",
        "import numpy as np \n",
        "import matplotlib.pyplot as plt \n",
        "import seaborn as sns "
      ]
    },
    {
      "cell_type": "code",
      "source": [
        "# https://raw.githubusercontent.com/bigdata-young/bigdata_16th/main/data/example_cluster.csv\n",
        "file_url = \"https://raw.githubusercontent.com/bigdata-young/bigdata_16th/main/data/example_cluster.csv\"\n",
        "df = pd.read_csv(file_url) "
      ],
      "metadata": {
        "id": "wFQpdvEQFFSK"
      },
      "execution_count": null,
      "outputs": []
    },
    {
      "cell_type": "code",
      "source": [
        "df.head()"
      ],
      "metadata": {
        "id": "3tyCKTlLFFVW"
      },
      "execution_count": null,
      "outputs": []
    },
    {
      "cell_type": "code",
      "source": [
        "sns.scatterplot(x = 'var_1', y='var_2', data = df) "
      ],
      "metadata": {
        "id": "Jwj1GiUPFFYF"
      },
      "execution_count": null,
      "outputs": []
    },
    {
      "cell_type": "code",
      "source": [
        "# K 평균 군집화\n",
        "from sklearn.cluster import KMeans "
      ],
      "metadata": {
        "id": "fqcSOOCVFFbq"
      },
      "execution_count": null,
      "outputs": []
    },
    {
      "cell_type": "code",
      "source": [
        "kmeans_model = KMeans(n_clusters = 3, random_state = 100) "
      ],
      "metadata": {
        "id": "LGcDxcNzFFem"
      },
      "execution_count": null,
      "outputs": []
    },
    {
      "cell_type": "code",
      "source": [
        "kmeans_model.fit(df) "
      ],
      "metadata": {
        "id": "U4LqL8FRFFha"
      },
      "execution_count": null,
      "outputs": []
    },
    {
      "cell_type": "code",
      "source": [
        "pred = kmeans_model.predict(df) \n",
        "pred"
      ],
      "metadata": {
        "id": "49wVQfbGFFkl"
      },
      "execution_count": null,
      "outputs": []
    },
    {
      "cell_type": "code",
      "source": [
        "df['label'] = pred"
      ],
      "metadata": {
        "id": "-GOgr67nFFno"
      },
      "execution_count": null,
      "outputs": []
    },
    {
      "cell_type": "code",
      "source": [
        "sns.scatterplot(x='var_1', y='var_2', data = df,\n",
        "                hue='label', palette = 'rainbow') "
      ],
      "metadata": {
        "id": "jH5MB6TsGemL"
      },
      "execution_count": null,
      "outputs": []
    },
    {
      "cell_type": "code",
      "source": [
        "# 이녀셔(inertia) \n",
        "# 각 그룹에서 중심과 각 그룹에 해당하는 데이터 간 거리에 대한 합 \n",
        "kmeans_model.inertia_"
      ],
      "metadata": {
        "id": "84BQnXnUGepZ"
      },
      "execution_count": null,
      "outputs": []
    },
    {
      "cell_type": "code",
      "source": [
        "kmeans_model2 = KMeans(n_clusters = 500, random_state = 100) \n",
        "kmeans_model2.fit(df) \n",
        "kmeans_model2.inertia_"
      ],
      "metadata": {
        "id": "qSKC0VxeGetE"
      },
      "execution_count": null,
      "outputs": []
    },
    {
      "cell_type": "code",
      "source": [
        "df['label2'] = kmeans_model2.predict(df) "
      ],
      "metadata": {
        "id": "bnOH5AVIGezO"
      },
      "execution_count": null,
      "outputs": []
    },
    {
      "cell_type": "code",
      "source": [
        "df['label2']"
      ],
      "metadata": {
        "id": "RweE04srHvM2"
      },
      "execution_count": null,
      "outputs": []
    },
    {
      "cell_type": "code",
      "source": [
        "sns.scatterplot(x='var_1', y='var_2', data = df,\n",
        "                hue='label2', palette = 'rainbow') "
      ],
      "metadata": {
        "id": "dbuNN1gPFFrf"
      },
      "execution_count": null,
      "outputs": []
    },
    {
      "cell_type": "code",
      "source": [
        "# 엘보우 기법\n",
        "df = pd.read_csv(file_url) \n",
        "distance = []\n",
        "for k in range(2, 10): # k: 2~9\n",
        "    k_model = KMeans(n_clusters=k)\n",
        "    k_model.fit(df)\n",
        "    distance.append(k_model.inertia_)"
      ],
      "metadata": {
        "id": "-HEw3wyCFFtx"
      },
      "execution_count": null,
      "outputs": []
    },
    {
      "cell_type": "code",
      "source": [
        "distance"
      ],
      "metadata": {
        "id": "QzpdHHodH3tY"
      },
      "execution_count": null,
      "outputs": []
    },
    {
      "cell_type": "code",
      "source": [
        "sns.lineplot(x=range(2,10), y=distance)"
      ],
      "metadata": {
        "id": "jcii92GWH3w_"
      },
      "execution_count": null,
      "outputs": []
    },
    {
      "cell_type": "code",
      "source": [],
      "metadata": {
        "id": "HDRsQas7H31a"
      },
      "execution_count": null,
      "outputs": []
    },
    {
      "cell_type": "code",
      "source": [
        "file_url = \"https://raw.githubusercontent.com/bigdata-young/bigdata_16th/main/data/customer.csv\"\n",
        "df = pd.read_csv(file_url)"
      ],
      "metadata": {
        "id": "sWKncZ3pH34E"
      },
      "execution_count": null,
      "outputs": []
    },
    {
      "cell_type": "code",
      "source": [
        "df.head()"
      ],
      "metadata": {
        "id": "rCmDDAjlIyV7"
      },
      "execution_count": null,
      "outputs": []
    },
    {
      "cell_type": "code",
      "source": [
        "df.describe(include = 'all') "
      ],
      "metadata": {
        "id": "IRWQHNFAIyYx"
      },
      "execution_count": null,
      "outputs": []
    },
    {
      "cell_type": "code",
      "source": [
        "df.cc_num.nunique()"
      ],
      "metadata": {
        "id": "0oqt-AwMIyb-"
      },
      "execution_count": null,
      "outputs": []
    },
    {
      "cell_type": "code",
      "source": [
        "# cust_dummy = pd.get_dummies(df, columns = ['category'], drop_first = True)\n",
        "cust_dummy = pd.get_dummies(df, columns = ['category'])  \n",
        "cust_dummy.info()"
      ],
      "metadata": {
        "id": "kfNNYsDxIyfu"
      },
      "execution_count": null,
      "outputs": []
    },
    {
      "cell_type": "code",
      "source": [
        "cust_dummy.columns[2:]"
      ],
      "metadata": {
        "id": "tAWrkjo-Iyi2"
      },
      "execution_count": null,
      "outputs": []
    },
    {
      "cell_type": "code",
      "source": [
        "cat_list = cust_dummy.columns[2:]"
      ],
      "metadata": {
        "id": "P2BM_k9BIyly"
      },
      "execution_count": null,
      "outputs": []
    },
    {
      "cell_type": "code",
      "source": [
        "for i in cat_list:  # 열들의 이름\n",
        "    # cust_dummy: 0, 1 * 금액 -> 그 카테고리에 속한 금액 \n",
        "    cust_dummy[i] = cust_dummy[i] * cust_dummy['amt'] "
      ],
      "metadata": {
        "id": "9_6LdQx_H37r"
      },
      "execution_count": null,
      "outputs": []
    },
    {
      "cell_type": "code",
      "source": [
        "cust_dummy "
      ],
      "metadata": {
        "id": "Gng19mfWH3_G"
      },
      "execution_count": null,
      "outputs": []
    },
    {
      "cell_type": "code",
      "source": [
        "customer_agg = cust_dummy.groupby('cc_num').sum()\n",
        "customer_agg.head()"
      ],
      "metadata": {
        "id": "JViNLgdIFFwl"
      },
      "execution_count": null,
      "outputs": []
    },
    {
      "cell_type": "code",
      "source": [
        "customer_agg.info()"
      ],
      "metadata": {
        "id": "gDrvvR1TLZfp"
      },
      "execution_count": null,
      "outputs": []
    },
    {
      "cell_type": "code",
      "source": [
        "from sklearn.preprocessing import StandardScaler\n",
        "scaler = StandardScaler() \n",
        "scaled_df = pd.DataFrame(scaler.fit_transform(customer_agg),\n",
        "                         columns = customer_agg.columns,\n",
        "                         index = customer_agg.index)\n",
        "scaled_df"
      ],
      "metadata": {
        "id": "sHijZ7GPLZiL"
      },
      "execution_count": null,
      "outputs": []
    },
    {
      "cell_type": "code",
      "source": [
        "distance = []\n",
        "for k in range(2, 10): \n",
        "    k_model = KMeans(n_clusters = k)\n",
        "    k_model.fit(scaled_df) \n",
        "    labels = k_model.predict(scaled_df) \n",
        "    distance.append(k_model.inertia_) \n",
        "\n",
        "sns.lineplot(x = range(2, 10), y = distance) "
      ],
      "metadata": {
        "id": "BWODMm2QLZlF"
      },
      "execution_count": null,
      "outputs": []
    },
    {
      "cell_type": "code",
      "source": [
        "# 실루엣 계수 \n",
        "# - 이너셔: 그룹의 중심으로부터 외부 요소 간의 거리...\n",
        "# - 클러스터 냅의 평균 거리 + 최근접한 다른 클러스터 데이터의 평균 거리 \n",
        "from sklearn.metrics import silhouette_score"
      ],
      "metadata": {
        "id": "fXrVDtSmLZom"
      },
      "execution_count": null,
      "outputs": []
    },
    {
      "cell_type": "code",
      "source": [
        "silhouette = []\n",
        "for k in range(2, 10):\n",
        "    k_model = KMeans(n_clusters=k)\n",
        "    k_model.fit(scaled_df)\n",
        "    labels = k_model.predict(scaled_df)\n",
        "    silhouette.append(silhouette_score(scaled_df, labels))"
      ],
      "metadata": {
        "id": "Qja1buBZP5kB"
      },
      "execution_count": null,
      "outputs": []
    },
    {
      "cell_type": "code",
      "source": [
        "silhouette"
      ],
      "metadata": {
        "id": "jyijH6OUP5nM"
      },
      "execution_count": null,
      "outputs": []
    },
    {
      "cell_type": "code",
      "source": [
        "# 실루엣 계수는 더 높은 값일 수록 더 좋은 분류\n",
        "sns.lineplot(x=range(2, 10), y=silhouette)"
      ],
      "metadata": {
        "id": "qIYNQG67P5q6"
      },
      "execution_count": null,
      "outputs": []
    },
    {
      "cell_type": "code",
      "source": [
        "k_model = KMeans(n_clusters = 4) \n",
        "k_model.fit(scaled_df) \n",
        "labels = k_model.predict(scaled_df) "
      ],
      "metadata": {
        "id": "wC3YHdKkP5tZ"
      },
      "execution_count": null,
      "outputs": []
    },
    {
      "cell_type": "code",
      "source": [
        "scaled_df['label'] = labels"
      ],
      "metadata": {
        "id": "02kltBMCP5wq"
      },
      "execution_count": null,
      "outputs": []
    },
    {
      "cell_type": "code",
      "source": [
        "scaled_df.head()"
      ],
      "metadata": {
        "id": "iJ7dX9xYRwtP"
      },
      "execution_count": null,
      "outputs": []
    },
    {
      "cell_type": "code",
      "source": [
        "scaled_df_mean = scaled_df.groupby('label').mean()\n",
        "scaled_df_mean"
      ],
      "metadata": {
        "id": "m-8tuTWNRww7"
      },
      "execution_count": null,
      "outputs": []
    },
    {
      "cell_type": "code",
      "source": [
        "scaled_df_count = scaled_df.groupby('label').count().amt\n",
        "scaled_df_count"
      ],
      "metadata": {
        "id": "TM5wA26FRw0X"
      },
      "execution_count": null,
      "outputs": []
    },
    {
      "cell_type": "code",
      "source": [
        "scaled_df_count = scaled_df_count.rename('count')"
      ],
      "metadata": {
        "id": "S2JunyFJRw2b"
      },
      "execution_count": null,
      "outputs": []
    },
    {
      "cell_type": "code",
      "source": [
        "scale_df_all = scaled_df_mean.join(scaled_df_count)\n",
        "scale_df_all"
      ],
      "metadata": {
        "id": "oq-LjHz-Rw5j"
      },
      "execution_count": null,
      "outputs": []
    },
    {
      "cell_type": "code",
      "source": [],
      "metadata": {
        "id": "9l5g95tPRw9L"
      },
      "execution_count": null,
      "outputs": []
    },
    {
      "cell_type": "code",
      "source": [],
      "metadata": {
        "id": "01y9P7P6Rw_5"
      },
      "execution_count": null,
      "outputs": []
    },
    {
      "cell_type": "code",
      "source": [],
      "metadata": {
        "id": "aMoNjKCNRxCd"
      },
      "execution_count": null,
      "outputs": []
    },
    {
      "cell_type": "code",
      "source": [],
      "metadata": {
        "id": "Jez93GIaP50e"
      },
      "execution_count": null,
      "outputs": []
    },
    {
      "cell_type": "code",
      "source": [],
      "metadata": {
        "id": "aQlq6mFBFFz5"
      },
      "execution_count": null,
      "outputs": []
    }
  ]
}